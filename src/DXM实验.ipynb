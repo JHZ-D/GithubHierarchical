{
 "metadata": {
  "language_info": {
   "codemirror_mode": {
    "name": "ipython",
    "version": 3
   },
   "file_extension": ".py",
   "mimetype": "text/x-python",
   "name": "python",
   "nbconvert_exporter": "python",
   "pygments_lexer": "ipython3",
   "version": ""
  },
  "orig_nbformat": 2,
  "kernelspec": {
   "name": "pheolon_kernel",
   "display_name": "Python   ('soenv': virtualenv)"
  }
 },
 "nbformat": 4,
 "nbformat_minor": 2,
 "cells": [
  {
   "cell_type": "code",
   "execution_count": 1,
   "metadata": {},
   "outputs": [],
   "source": [
    "from util.apidoc_search.api_search_service import ApiSearchService"
   ]
  },
  {
   "cell_type": "code",
   "execution_count": 2,
   "metadata": {},
   "outputs": [],
   "source": [
    "service = ApiSearchService('javadoc')"
   ]
  },
  {
   "cell_type": "code",
   "execution_count": 4,
   "metadata": {},
   "outputs": [
    {
     "output_type": "execute_result",
     "data": {
      "text/plain": [
       "[('api/java.management/javax/management/relation/RelationServiceMBean.html',\n",
       "  0.7504471746329278),\n",
       " ('api/java.sql/java/sql/SQLOutput.html', 0.7185765621117953),\n",
       " ('api/java.management/javax/management/relation/RelationService.html',\n",
       "  0.7157694932472716),\n",
       " ('api/java.sql.rowset/javax/sql/rowset/BaseRowSet.html', 0.7007861263557565),\n",
       " ('api/java.sql/java/sql/Wrapper.html', 0.6870319256065354),\n",
       " ('java.sql', 0.6749878058298249),\n",
       " ('java.time.temporal', 0.6738861953434728),\n",
       " ('api/java.sql.rowset/javax/sql/rowset/RowSetMetaDataImpl.html',\n",
       "  0.6712289456725589),\n",
       " ('javax.sql.rowset', 0.6703614368760088),\n",
       " ('api/java.desktop/java/awt/GraphicsEnvironment.html', 0.6701828428262906),\n",
       " ('javax.sql', 0.6668342745916608),\n",
       " ('api/java.sql.rowset/javax/sql/rowset/CachedRowSet.html',\n",
       "  0.6563014055077394),\n",
       " ('api/java.sql/java/sql/SQLInput.html', 0.6541874512339558),\n",
       " ('api/java.sql/java/sql/DriverManager.html', 0.6468742567846384),\n",
       " ('api/java.sql.rowset/javax/sql/rowset/JdbcRowSet.html', 0.6454327087625717),\n",
       " ('api/java.sql/javax/sql/RowSetEvent.html', 0.6282571066462019),\n",
       " ('api/java.sql.rowset/javax/sql/rowset/JoinRowSet.html', 0.6271555915874029),\n",
       " ('api/java.management/javax/management/Query.html', 0.626900400324335),\n",
       " ('api/java.management/javax/management/QueryEval.html', 0.6264741179073515),\n",
       " ('javax.management.relation', 0.6237843554468886),\n",
       " ('java.sql.rowset', 0.6224747743676451),\n",
       " ('api/java.sql/java/sql/ResultSet.html', 0.6208949341609693),\n",
       " ('api/java.sql/java/sql/Timestamp.html', 0.6195980404190155),\n",
       " ('api/java.sql/java/sql/Statement.html', 0.6148399646714064),\n",
       " ('api/java.sql/java/sql/DatabaseMetaData.html', 0.6093844554677623),\n",
       " ('api/java.base/java/time/temporal/Temporal.html', 0.6002649087696964),\n",
       " ('api/java.sql/java/sql/CallableStatement.html', 0.5995810077389718),\n",
       " ('api/java.sql/java/sql/Date.html', 0.5943513960694392),\n",
       " ('api/java.sql/javax/sql/RowSet.html', 0.5925270289061237),\n",
       " ('api/java.sql.rowset/javax/sql/rowset/Predicate.html', 0.5878194586301242),\n",
       " ('api/java.desktop/java/awt/GraphicsDevice.html', 0.5868058909875953),\n",
       " ('javax.management', 0.5860099286153314),\n",
       " ('api/java.sql/java/sql/Driver.html', 0.5832668995415502),\n",
       " ('api/java.sql/java/sql/Time.html', 0.5814889471814899),\n",
       " ('api/java.sql.rowset/javax/sql/rowset/spi/SyncFactory.html',\n",
       "  0.5803644745358123),\n",
       " ('api/java.sql.rowset/javax/sql/rowset/serial/SQLOutputImpl.html',\n",
       "  0.570311498444555),\n",
       " ('api/java.base/java/net/HttpURLConnection.html', 0.564708799911404),\n",
       " ('api/java.base/java/time/temporal/TemporalAccessor.html',\n",
       "  0.5601073651565309),\n",
       " ('api/java.base/java/time/format/DateTimeFormatter.html', 0.5553897643384174),\n",
       " ('api/java.sql/java/sql/PreparedStatement.html', 0.5447333834470722),\n",
       " ('api/java.sql.rowset/javax/sql/rowset/serial/SQLInputImpl.html',\n",
       "  0.544691887004545),\n",
       " ('api/java.base/java/time/chrono/ChronoZonedDateTime.html',\n",
       "  0.5401076933894213),\n",
       " ('api/java.sql/java/sql/JDBCType.html', 0.5400117025619174),\n",
       " ('api/java.base/java/time/chrono/ChronoLocalDateTime.html',\n",
       "  0.535648317073766),\n",
       " ('api/java.management/javax/management/MBeanServerConnection.html',\n",
       "  0.5334946816009644),\n",
       " ('api/java.desktop/java/awt/GraphicsConfiguration.html', 0.5320717808199109),\n",
       " ('api/java.base/java/time/temporal/TemporalQuery.html', 0.530382835842701),\n",
       " ('api/java.base/java/time/chrono/ChronoLocalDate.html', 0.5150712355385645),\n",
       " ('api/java.sql/java/sql/Clob.html', 0.5075562843319903),\n",
       " ('api/java.base/java/time/temporal/TemporalQueries.html', 0.5043996928023803)]"
      ]
     },
     "metadata": {},
     "execution_count": 4
    }
   ],
   "source": [
    "query = 'How to write update query in Oracle using jdbc?'\n",
    "service.search_by_concept(query)"
   ]
  },
  {
   "cell_type": "code",
   "execution_count": 8,
   "metadata": {},
   "outputs": [
    {
     "output_type": "execute_result",
     "data": {
      "text/plain": [
       "[('api/java.base/java/util/Scanner.html', 0.7745972984320577),\n",
       " ('api/java.base/java/io/StringWriter.html', 0.7636626230543311),\n",
       " ('api/java.base/java/text/CollationElementIterator.html', 0.7605437354527801),\n",
       " ('api/java.base/java/io/CharArrayWriter.html', 0.7476218955436442),\n",
       " ('api/java.base/java/lang/Appendable.html', 0.7382781288874998),\n",
       " ('api/java.base/java/io/StringReader.html', 0.7207406619900687),\n",
       " ('api/java.base/java/nio/file/PathMatcher.html', 0.7143680150682454),\n",
       " ('api/java.base/java/io/PipedWriter.html', 0.6923786186934797),\n",
       " ('api/java.base/java/text/SimpleDateFormat.html', 0.6807284785051506),\n",
       " ('api/java.base/java/io/BufferedReader.html', 0.6722948603629345),\n",
       " ('api/java.management/javax/management/MBeanPermission.html',\n",
       "  0.6603775375718943),\n",
       " ('api/java.base/java/io/PrintStream.html', 0.641478895482365),\n",
       " ('api/java.base/java/security/PKCS12Attribute.html', 0.6334576413240022),\n",
       " ('api/java.desktop/javax/sound/sampled/AudioSystem.html', 0.6287931718991783),\n",
       " ('api/java.desktop/javax/print/attribute/SetOfIntegerSyntax.html',\n",
       "  0.6228100864530086),\n",
       " ('api/java.base/java/lang/String.html', 0.6204023086837527),\n",
       " ('api/java.base/java/io/StreamTokenizer.html', 0.6178789425252329),\n",
       " ('api/java.base/java/util/PropertyPermission.html', 0.6177855464987254),\n",
       " ('api/java.desktop/javax/sound/midi/MidiSystem.html', 0.6171840575985412),\n",
       " ('api/java.base/java/text/BreakIterator.html', 0.6069112031786801),\n",
       " ('api/java.base/java/net/URLConnection.html', 0.6067838487910262),\n",
       " ('api/java.desktop/java/awt/AWTKeyStroke.html', 0.605229242000342),\n",
       " ('api/java.base/java/net/SocketPermission.html', 0.6037015057487871),\n",
       " ('api/java.base/java/io/Writer.html', 0.5895349835148946),\n",
       " ('api/java.desktop/java/awt/Toolkit.html', 0.5819585863034362),\n",
       " ('api/java.base/java/io/PrintWriter.html', 0.5799643814600635),\n",
       " ('api/java.base/java/lang/Character.html', 0.5709602810303196),\n",
       " ('api/java.rmi/javax/rmi/ssl/SslRMIClientSocketFactory.html',\n",
       "  0.5701379435376817),\n",
       " ('api/java.sql/java/sql/DatabaseMetaData.html', 0.5692805708458906),\n",
       " ('api/java.base/java/lang/SecurityManager.html', 0.5644954136065035),\n",
       " ('api/java.desktop/javax/swing/KeyStroke.html', 0.5633771612404892),\n",
       " ('api/java.base/java/nio/file/Files.html', 0.5628997104127178),\n",
       " ('api/java.base/java/io/FilePermission.html', 0.5555444049123993),\n",
       " ('api/java.base/java/nio/CharBuffer.html', 0.5504392478490369),\n",
       " ('api/java.desktop/java/awt/FontMetrics.html', 0.5443647303232588),\n",
       " ('api/java.base/java/util/Properties.html', 0.5228672009420999),\n",
       " ('api/java.desktop/javax/accessibility/AccessibilityProvider.html',\n",
       "  0.5078026807300686),\n",
       " ('api/java.desktop/java/awt/Font.html', 0.5070937177894423),\n",
       " ('api/java.base/java/lang/invoke/MethodHandles.Lookup.html',\n",
       "  0.494076051651165),\n",
       " ('api/java.base/java/nio/file/FileSystem.html', 0.49396097752326984),\n",
       " ('api/java.base/java/lang/reflect/Constructor.html', 0.4780839738360559),\n",
       " ('api/java.desktop/java/awt/event/KeyEvent.html', 0.4766192712166398),\n",
       " ('api/java.base/java/lang/reflect/Method.html', 0.4671968504267195),\n",
       " ('api/java.desktop/java/awt/Graphics.html', 0.44086959727701003),\n",
       " ('api/java.base/java/lang/Class.html', 0.37627782847773816),\n",
       " ('api/java.base/java/net/URI.html', 0.3263587910014758)]"
      ]
     },
     "metadata": {},
     "execution_count": 8
    }
   ],
   "source": [
    "query = 'How to Remove Special Character Except Comma'\n",
    "service.search_by_concept(query)"
   ]
  },
  {
   "cell_type": "code",
   "execution_count": 9,
   "metadata": {},
   "outputs": [
    {
     "output_type": "execute_result",
     "data": {
      "text/plain": [
       "[('api/java.base/java/lang/Character.html#compareTo(java.lang.Character)',\n",
       "  100),\n",
       " ('api/java.desktop/java/awt/event/KeyEvent.html#VK_COMMA', -100),\n",
       " ('api/java.base/java/lang/Character.html#toString()', -100),\n",
       " ('api/java.base/java/lang/Character.Subset.html#toString()', -100),\n",
       " ('api/java.desktop/javax/sound/midi/SysexMessage.html#SPECIAL_SYSTEM_EXCLUSIVE',\n",
       "  -100),\n",
       " ('api/java.base/java/lang/Character.html#DIRECTIONALITY_LEFT_TO_RIGHT', -100),\n",
       " ('api/java.base/java/lang/Character.html#DIRECTIONALITY_RIGHT_TO_LEFT', -100),\n",
       " ('api/java.base/java/lang/Character.html#toChars(int)', -100),\n",
       " ('api/java.base/java/lang/Character.html#toString(char)', -100),\n",
       " ('api/java.base/java/lang/Character.html#toString(int)', -100)]"
      ]
     },
     "metadata": {},
     "execution_count": 9
    }
   ],
   "source": [
    "service.search_literally_strict(query)"
   ]
  },
  {
   "cell_type": "code",
   "execution_count": null,
   "metadata": {},
   "outputs": [],
   "source": []
  }
 ]
}