{
 "cells": [
  {
   "cell_type": "code",
   "execution_count": 1,
   "metadata": {},
   "outputs": [],
   "source": [
    "import networkx as nx"
   ]
  },
  {
   "cell_type": "code",
   "execution_count": 4,
   "metadata": {},
   "outputs": [],
   "source": [
    "cm_path = 'C:/workspace/SOworkspace/backup/concept_map_javadoc20200801.gexf'"
   ]
  },
  {
   "cell_type": "code",
   "execution_count": 5,
   "metadata": {},
   "outputs": [],
   "source": [
    "concept_map = nx.read_gexf(cm_path)"
   ]
  },
  {
   "cell_type": "code",
   "execution_count": 6,
   "metadata": {
    "collapsed": true,
    "jupyter": {
     "outputs_hidden": true,
     "source_hidden": true
    }
   },
   "outputs": [
    {
     "output_type": "execute_result",
     "data": {
      "text/plain": [
       "/java.base/java/io/LineNumberReader.html#setLineNumber(int)',\n",
       " 'api/java.base/java/io/LineNumberReader.html#skip(long)',\n",
       " 'api/java.base/java/io/ObjectInputFilter.Config.html#createFilter(java.lang.String)',\n",
       " 'api/java.base/java/io/ObjectInputFilter.Config.html#getSerialFilter()',\n",
       " 'api/java.base/java/io/ObjectInputFilter.Config.html#setSerialFilter(java.io.ObjectInputFilter)',\n",
       " 'api/java.base/java/io/ObjectInputStream.html#available()',\n",
       " 'api/java.base/java/io/ObjectInputStream.html#close()',\n",
       " 'api/java.base/java/io/ObjectInputStream.html#defaultReadObject()',\n",
       " 'api/java.base/java/io/ObjectInputStream.html#enableResolveObject(boolean)',\n",
       " 'api/java.base/java/io/ObjectInputStream.html#getObjectInputFilter()',\n",
       " 'api/java.base/java/io/ObjectInputStream.html#read()',\n",
       " 'api/java.base/java/io/ObjectInputStream.html#read(byte%5B%5D,int,int)',\n",
       " 'api/java.base/java/io/ObjectInputStream.html#readBoolean()',\n",
       " 'api/java.base/java/io/ObjectInputStream.html#readByte()',\n",
       " 'api/java.base/java/io/ObjectInputStream.html#readChar()',\n",
       " 'api/java.base/java/io/ObjectInputStream.html#readClassDescriptor()',\n",
       " 'api/java.base/java/io/ObjectInputStream.html#readDouble()',\n",
       " 'api/java.base/java/io/ObjectInputStream.html#readFields()',\n",
       " 'api/java.base/java/io/ObjectInputStream.html#readFloat()',\n",
       " 'api/java.base/java/io/ObjectInputStream.html#readFully(byte%5B%5D)',\n",
       " 'api/java.base/java/io/ObjectInputStream.html#readFully(byte%5B%5D,int,int)',\n",
       " 'api/java.base/java/io/ObjectInputStream.html#readInt()',\n",
       " 'api/java.base/java/io/ObjectInputStream.html#readLine()',\n",
       " 'api/java.base/java/io/ObjectInputStream.html#readLong()',\n",
       " 'api/java.base/java/io/ObjectInputStream.html#readObject()',\n",
       " 'api/java.base/java/io/ObjectInputStream.html#readObjectOverride()',\n",
       " 'api/java.base/java/io/ObjectInputStream.html#readShort()',\n",
       " 'api/java.base/java/io/ObjectInputStream.html#readStreamHeader()',\n",
       " 'api/java.base/java/io/ObjectInputStream.html#readUnshared()',\n",
       " 'api/java.base/java/io/ObjectInputStream.html#readUnsignedByte()',\n",
       " 'api/java.base/java/io/ObjectInputStream.html#readUnsignedShort()',\n",
       " 'api/java.base/java/io/ObjectInputStream.html#readUTF()',\n",
       " 'api/java.base/java/io/ObjectInputStream.html#registerValidation(java.io.ObjectInputValidation,int)',\n",
       " 'api/java.base/java/io/ObjectInputStream.html#resolveClass(java.io.ObjectStreamClass)',\n",
       " 'api/java.base/java/io/ObjectInputStream.html#resolveObject(java.lang.Object)',\n",
       " 'api/java.base/java/io/ObjectInputStream.html#resolveProxyClass(java.lang.String%5B%5D)',\n",
       " 'api/java.base/java/io/ObjectInputStream.html#setObjectInputFilter(java.io.ObjectInputFilter)',\n",
       " 'api/java.base/java/io/ObjectInputStream.html#skipBytes(int)',\n",
       " 'api/java.base/java/io/ObjectInputStream.GetField.html#defaulted(java.lang.String)',\n",
       " 'api/java.base/java/io/ObjectInputStream.GetField.html#get(java.lang.String,boolean)',\n",
       " 'api/java.base/java/io/ObjectInputStream.GetField.html#get(java.lang.String,byte)',\n",
       " 'api/java.base/java/io/ObjectInputStream.GetField.html#get(java.lang.String,char)',\n",
       " 'api/java.base/java/io/ObjectInputStream.GetField.html#get(java.lang.String,double)',\n",
       " 'api/java.base/java/io/ObjectInputStream.GetField.html#get(java.lang.String,float)',\n",
       " 'api/java.base/java/io/ObjectInputStream.GetField.html#get(java.lang.String,int)',\n",
       " 'api/java.base/java/io/ObjectInputStream.GetField.html#get(java.lang.String,long)',\n",
       " 'api/java.base/java/io/ObjectInputStream.GetField.html#get(java.lang.String,short)',\n",
       " 'api/java.base/java/io/ObjectInputStream.GetField.html#get(java.lang.String,java.lang.Object)',\n",
       " 'api/java.base/java/io/ObjectInputStream.GetField.html#getObjectStreamClass()',\n",
       " 'api/java.base/java/io/ObjectOutputStream.html#annotateClass(java.lang.Class)',\n",
       " 'api/java.base/java/io/ObjectOutputStream.html#annotateProxyClass(java.lang.Class)',\n",
       " 'api/java.base/java/io/ObjectOutputStream.html#close()',\n",
       " 'api/java.base/java/io/ObjectOutputStream.html#defaultWriteObject()',\n",
       " 'api/java.base/java/io/ObjectOutputStream.html#drain()',\n",
       " 'api/java.base/java/io/ObjectOutputStream.html#enableReplaceObject(boolean)',\n",
       " 'api/java.base/java/io/ObjectOutputStream.html#flush()',\n",
       " 'api/java.base/java/io/ObjectOutputStream.html#putFields()',\n",
       " 'api/java.base/java/io/ObjectOutputStream.html#replaceObject(java.lang.Object)',\n",
       " 'api/java.base/java/io/ObjectOutputStream.html#reset()',\n",
       " 'api/java.base/java/io/ObjectOutputStream.html#useProtocolVersion(int)',\n",
       " 'api/java.base/java/io/ObjectOutputStream.html#write(byte%5B%5D)',\n",
       " 'api/java.base/java/io/ObjectOutputStream.html#write(byte%5B%5D,int,int)',\n",
       " 'api/java.base/java/io/ObjectOutputStream.html#write(int)',\n",
       " 'api/java.base/java/io/ObjectOutputStream.html#writeBoolean(boolean)',\n",
       " 'api/java.base/java/io/ObjectOutputStream.html#writeByte(int)',\n",
       " 'api/java.base/java/io/ObjectOutputStream.html#writeBytes(java.lang.String)',\n",
       " 'api/java.base/java/io/ObjectOutputStream.html#writeChar(int)',\n",
       " 'api/java.base/java/io/ObjectOutputStream.html#writeChars(java.lang.String)',\n",
       " 'api/java.base/java/io/ObjectOutputStream.html#writeClassDescriptor(java.io.ObjectStreamClass)',\n",
       " 'api/java.base/java/io/ObjectOutputStream.html#writeDouble(double)',\n",
       " 'api/java.base/java/io/ObjectOutputStream.html#writeFields()',\n",
       " 'api/java.base/java/io/ObjectOutputStream.html#writeFloat(float)',\n",
       " 'api/java.base/java/io/ObjectOutputStream.html#writeInt(int)',\n",
       " 'api/java.base/java/io/ObjectOutputStream.html#writeLong(long)',\n",
       " 'api/java.base/java/io/ObjectOutputStream.html#writeObject(java.lang.Object)',\n",
       " 'api/java.base/java/io/ObjectOutputStream.html#writeObjectOverride(java.lang.Object)',\n",
       " 'api/java.base/java/io/ObjectOutputStream.html#writeShort(int)',\n",
       " 'api/java.base/java/io/ObjectOutputStream.html#writeStreamHeader()',\n",
       " 'api/java.base/java/io/ObjectOutputStream.html#writeUnshared(java.lang.Object)',\n",
       " 'api/java.base/java/io/ObjectOutputStream.html#writeUTF(java.lang.String)',\n",
       " 'api/java.base/java/io/ObjectOutputStream.PutField.html#put(java.lang.String,boolean)',\n",
       " 'api/java.base/java/io/ObjectOutputStream.PutField.html#put(java.lang.String,byte)',\n",
       " 'api/java.base/java/io/ObjectOutputStream.PutField.html#put(java.lang.String,char)',\n",
       " 'api/java.base/java/io/ObjectOutputStream.PutField.html#put(java.lang.String,double)',\n",
       " 'api/java.base/java/io/ObjectOutputStream.PutField.html#put(java.lang.String,float)',\n",
       " 'api/java.base/java/io/ObjectOutputStream.PutField.html#put(java.lang.String,int)',\n",
       " 'api/java.base/java/io/ObjectOutputStream.PutField.html#put(java.lang.String,long)',\n",
       " 'api/java.base/java/io/ObjectOutputStream.PutField.html#put(java.lang.String,short)',\n",
       " 'api/java.base/java/io/ObjectOutputStream.PutField.html#put(java.lang.String,java.lang.Object)',\n",
       " 'api/java.base/java/io/ObjectOutputStream.PutField.html#write(java.io.ObjectOutput)',\n",
       " 'api/java.base/java/io/ObjectStreamClass.html#forClass()',\n",
       " 'api/java.base/java/io/ObjectStreamClass.html#getField(java.lang.String)',\n",
       " 'api/java.base/java/io/ObjectStreamClass.html#getFields()',\n",
       " 'api/java.base/java/io/ObjectStreamClass.html#getName()',\n",
       " 'api/java.base/java/io/ObjectStreamClass.html#getSerialVersionUID()',\n",
       " 'api/java.base/java/io/ObjectStreamClass.html#lookup(java.lang.Class)',\n",
       " 'api/java.base/java/io/ObjectStreamClass.html#lookupAny(java.lang.Class)',\n",
       " 'api/java.base/java/io/ObjectStreamClass.html#toString()',\n",
       " 'api/java.base/java/io/ObjectStreamField.html#compareTo(java.lang.Object)',\n",
       " 'api/java.base/java/io/ObjectStreamField.html#getName()',\n",
       " 'api/java.base/java/io/ObjectStreamField.html#getOffset()',\n",
       " 'api/java.base/java/io/ObjectStreamField.html#getType()',\n",
       " 'api/java.base/java/io/ObjectStreamField.html#getTypeCode()',\n",
       " 'api/java.base/java/io/ObjectStreamField.html#getTypeString()',\n",
       " 'api/java.base/java/io/ObjectStreamField.html#isPrimitive()',\n",
       " 'api/java.base/java/io/ObjectStreamField.html#isUnshared()',\n",
       " 'api/java.base/java/io/ObjectStreamField.html#setOffset(int)',\n",
       " 'api/java.base/java/io/ObjectStreamField.html#toString()',\n",
       " 'api/java.base/java/io/OutputStream.html#close()',\n",
       " 'api/java.base/java/io/OutputStream.html#flush()',\n",
       " 'api/java.base/java/io/OutputStream.html#nullOutputStream()',\n",
       " 'api/java.base/java/io/OutputStream.html#write(byte%5B%5D)',\n",
       " 'api/java.base/java/io/OutputStream.html#write(byte%5B%5D,int,int)',\n",
       " 'api/java.base/java/io/OutputStream.html#write(int)',\n",
       " 'api/java.base/java/io/OutputStreamWriter.html#flush()',\n",
       " 'api/java.base/java/io/OutputStreamWriter.html#getEncoding()',\n",
       " 'api/java.base/java/io/OutputStreamWriter.html#write(char%5B%5D,int,int)',\n",
       " 'api/java.base/java/io/OutputStreamWriter.html#write(int)',\n",
       " 'api/java.base/java/io/OutputStreamWriter.html#write(java.lang.String,int,int)',\n",
       " 'api/java.base/java/io/PipedInputStream.html#available()',\n",
       " 'api/java.base/java/io/PipedInputStream.html#close()',\n",
       " 'api/java.base/java/io/PipedInputStream.html#connect(java.io.PipedOutputStream)',\n",
       " 'api/java.base/java/io/PipedInputStream.html#read()',\n",
       " 'api/java.base/java/io/PipedInputStream.html#read(byte%5B%5D,int,int)',\n",
       " 'api/java.base/java/io/PipedInputStream.html#receive(int)',\n",
       " 'api/java.base/java/io/PipedOutputStream.html#close()',\n",
       " 'api/java.base/java/io/PipedOutputStream.html#connect(java.io.PipedInputStream)',\n",
       " 'api/java.base/java/io/PipedOutputStream.html#flush()',\n",
       " 'api/java.base/java/io/PipedOutputStream.html#write(byte%5B%5D,int,int)',\n",
       " 'api/java.base/java/io/PipedOutputStream.html#write(int)',\n",
       " 'api/java.base/java/io/PipedReader.html#close()',\n",
       " 'api/java.base/java/io/PipedReader.html#connect(java.io.PipedWriter)',\n",
       " 'api/java.base/java/io/PipedReader.html#read()',\n",
       " 'api/java.base/java/io/PipedReader.html#read(char%5B%5D,int,int)',\n",
       " 'api/java.base/java/io/PipedReader.html#ready()',\n",
       " 'api/java.base/java/io/PipedWriter.html#close()',\n",
       " 'api/java.base/java/io/PipedWriter.html#connect(java.io.PipedReader)',\n",
       " 'api/java.base/java/io/PipedWriter.html#flush()',\n",
       " 'api/java.base/java/io/PipedWriter.html#write(char%5B%5D,int,int)',\n",
       " 'api/java.base/java/io/PipedWriter.html#write(int)',\n",
       " 'api/java.base/java/io/PrintStream.html#append(char)',\n",
       " 'api/java.base/java/io/PrintStream.html#append(java.lang.CharSequence)',\n",
       " 'api/java.base/java/io/PrintStream.html#append(java.lang.CharSequence,int,int)',\n",
       " 'api/java.base/java/io/PrintStream.html#checkError()',\n",
       " 'api/java.base/java/io/PrintStream.html#clearError()',\n",
       " 'api/java.base/java/io/PrintStream.html#close()',\n",
       " 'api/java.base/java/io/PrintStream.html#flush()',\n",
       " 'api/java.base/java/io/PrintStream.html#format(java.lang.String,java.lang.Object...)',\n",
       " 'api/java.base/java/io/PrintStream.html#format(java.util.Locale,java.lang.String,java.lang.Object...)',\n",
       " 'api/java.base/java/io/PrintStream.html#print(boolean)',\n",
       " 'api/java.base/java/io/PrintStream.html#print(char)',\n",
       " 'api/java.base/java/io/PrintStream.html#print(char%5B%5D)',\n",
       " 'api/java.base/java/io/PrintStream.html#print(double)',\n",
       " 'api/java.base/java/io/PrintStream.html#print(float)',\n",
       " 'api/java.base/java/io/PrintStream.html#print(int)',\n",
       " 'api/java.base/java/io/PrintStream.html#print(long)',\n",
       " 'api/java.base/java/io/PrintStream.html#print(java.lang.Object)',\n",
       " 'api/java.base/java/io/PrintStream.html#print(java.lang.String)',\n",
       " 'api/java.base/java/io/PrintStream.html#printf(java.lang.String,java.lang.Object...)',\n",
       " 'api/java.base/java/io/PrintStream.html#printf(java.util.Locale,java.lang.String,java.lang.Object...)',\n",
       " 'api/java.base/java/io/PrintStream.html#println()',\n",
       " 'api/java.base/java/io/PrintStream.html#println(boolean)',\n",
       " 'api/java.base/java/io/PrintStream.html#println(char)',\n",
       " 'api/java.base/java/io/PrintStream.html#println(char%5B%5D)',\n",
       " 'api/java.base/java/io/PrintStream.html#println(double)',\n",
       " 'api/java.base/java/io/PrintStream.html#println(float)',\n",
       " 'api/java.base/java/io/PrintStream.html#println(int)',\n",
       " 'api/java.base/java/io/PrintStream.html#println(long)',\n",
       " 'api/java.base/java/io/PrintStream.html#println(java.lang.Object)',\n",
       " 'api/java.base/java/io/PrintStream.html#println(java.lang.String)',\n",
       " 'api/java.base/java/io/PrintStream.html#setError()',\n",
       " 'api/java.base/java/io/PrintStream.html#write(byte%5B%5D)',\n",
       " 'api/java.base/java/io/PrintStream.html#write(byte%5B%5D,int,int)',\n",
       " 'api/java.base/java/io/PrintStream.html#write(int)',\n",
       " 'api/java.base/java/io/PrintStream.html#writeBytes(byte%5B%5D)',\n",
       " 'api/java.base/java/io/PrintWriter.html#append(char)',\n",
       " 'api/java.base/java/io/PrintWriter.html#append(java.lang.CharSequence)',\n",
       " 'api/java.base/java/io/PrintWriter.html#append(java.lang.CharSequence,int,int)',\n",
       " 'api/java.base/java/io/PrintWriter.html#checkError()',\n",
       " 'api/java.base/java/io/PrintWriter.html#clearError()',\n",
       " 'api/java.base/java/io/PrintWriter.html#close()',\n",
       " 'api/java.base/java/io/PrintWriter.html#flush()',\n",
       " 'api/java.base/java/io/PrintWriter.html#format(java.lang.String,java.lang.Object...)',\n",
       " 'api/java.base/java/io/PrintWriter.html#format(java.util.Locale,java.lang.String,java.lang.Object...)',\n",
       " 'api/java.base/java/io/PrintWriter.html#print(boolean)',\n",
       " 'api/java.base/java/io/PrintWriter.html#print(char)',\n",
       " 'api/java.base/java/io/PrintWriter.html#print(char%5B%5D)',\n",
       " 'api/java.base/java/io/PrintWriter.html#print(double)',\n",
       " 'api/java.base/java/io/PrintWriter.html#print(float)',\n",
       " 'api/java.base/java/io/PrintWriter.html#print(int)',\n",
       " 'api/java.base/java/io/PrintWriter.html#print(long)',\n",
       " 'api/java.base/java/io/PrintWriter.html#print(java.lang.Object)',\n",
       " 'api/java.base/java/io/PrintWriter.html#print(java.lang.String)',\n",
       " 'api/java.base/java/io/PrintWriter.html#printf(java.lang.String,java.lang.Object...)',\n",
       " 'api/java.base/java/io/PrintWriter.html#printf(java.util.Locale,java.lang.String,java.lang.Object...)',\n",
       " 'api/java.base/java/io/PrintWriter.html#println()',\n",
       " 'api/java.base/java/io/PrintWriter.html#println(boolean)',\n",
       " 'api/java.base/java/io/PrintWriter.html#println(char)',\n",
       " 'api/java.base/java/io/PrintWriter.html#println(char%5B%5D)',\n",
       " 'api/java.base/java/io/PrintWriter.html#println(double)',\n",
       " 'api/java.base/java/io/PrintWriter.html#println(float)',\n",
       " 'api/java.base/java/io/PrintWriter.html#println(int)',\n",
       " 'api/java.base/java/io/PrintWriter.html#println(long)',\n",
       " 'api/java.base/java/io/PrintWriter.html#println(java.lang.Object)',\n",
       " 'api/java.base/java/io/PrintWriter.html#println(java.lang.String)',\n",
       " 'api/java.base/java/io/PrintWriter.html#setError()',\n",
       " 'api/java.base/java/io/PrintWriter.html#write(char%5B%5D)',\n",
       " 'api/java.base/java/io/PrintWriter.html#write(char%5B%5D,int,int)',\n",
       " 'api/java.base/java/io/PrintWriter.html#write(int)',\n",
       " 'api/java.base/java/io/PrintWriter.html#write(java.lang.String)',\n",
       " 'api/java.base/java/io/PrintWriter.html#write(java.lang.String,int,int)',\n",
       " 'api/java.base/java/io/PushbackInputStream.html#available()',\n",
       " 'api/java.base/java/io/PushbackInputStream.html#close()',\n",
       " 'api/java.base/java/io/PushbackInputStream.html#mark(int)',\n",
       " 'api/java.base/java/io/PushbackInputStream.html#markSupported()',\n",
       " 'api/java.base/java/io/PushbackInputStream.html#read()',\n",
       " 'api/java.base/java/io/PushbackInputStream.html#read(byte%5B%5D,int,int)',\n",
       " 'api/java.base/java/io/PushbackInputStream.html#reset()',\n",
       " 'api/java.base/java/io/PushbackInputStream.html#skip(long)',\n",
       " 'api/java.base/java/io/PushbackInputStream.html#unread(byte%5B%5D)',\n",
       " 'api/java.base/java/io/PushbackInputStream.html#unread(byte%5B%5D,int,int)',\n",
       " 'api/java.base/java/io/PushbackInputStream.html#unread(int)',\n",
       " 'api/java.base/java/io/PushbackReader.html#close()',\n",
       " 'api/java.base/java/io/PushbackReader.html#mark(int)',\n",
       " 'api/java.base/java/io/PushbackReader.html#markSupported()',\n",
       " 'api/java.base/java/io/PushbackReader.html#read()',\n",
       " 'api/java.base/java/io/PushbackReader.html#read(char%5B%5D,int,int)',\n",
       " 'api/java.base/java/io/PushbackReader.html#ready()',\n",
       " 'api/java.base/java/io/PushbackReader.html#reset()',\n",
       " 'api/java.base/java/io/PushbackReader.html#skip(long)',\n",
       " 'api/java.base/java/io/PushbackReader.html#unread(char%5B%5D)',\n",
       " 'api/java.base/java/io/PushbackReader.html#unread(char%5B%5D,int,int)',\n",
       " 'api/java.base/java/io/PushbackReader.html#unread(int)',\n",
       " 'api/java.base/java/io/RandomAccessFile.html#close()',\n",
       " 'api/java.base/java/io/RandomAccessFile.html#getChannel()',\n",
       " 'api/java.base/java/io/RandomAccessFile.html#getFD()',\n",
       " 'api/java.base/java/io/RandomAccessFile.html#getFilePointer()',\n",
       " 'api/java.base/java/io/RandomAccessFile.html#length()',\n",
       " 'api/java.base/java/io/RandomAccessFile.html#read()',\n",
       " 'api/java.base/java/io/RandomAccessFile.html#read(byte%5B%5D)',\n",
       " 'api/java.base/java/io/RandomAccessFile.html#read(byte%5B%5D,int,int)',\n",
       " 'api/java.base/java/io/RandomAccessFile.html#readBoolean()',\n",
       " 'api/java.base/java/io/RandomAccessFile.html#readByte()',\n",
       " 'api/java.base/java/io/RandomAccessFile.html#readChar()',\n",
       " 'api/java.base/java/io/RandomAccessFile.html#readDouble()',\n",
       " 'api/java.base/java/io/RandomAccessFile.html#readFloat()',\n",
       " 'api/java.base/java/io/RandomAccessFile.html#readFully(byte%5B%5D)',\n",
       " 'api/java.base/java/io/RandomAccessFile.html#readFully(byte%5B%5D,int,int)',\n",
       " 'api/java.base/java/io/RandomAccessFile.html#readInt()',\n",
       " 'api/java.base/java/io/RandomAccessFile.html#readLine()',\n",
       " 'api/java.base/java/io/RandomAccessFile.html#readLong()',\n",
       " 'api/java.base/java/io/RandomAccessFile.html#readShort()',\n",
       " 'api/java.base/java/io/RandomAccessFile.html#readUnsignedByte()',\n",
       " 'api/java.base/java/io/RandomAccessFile.html#readUnsignedShort()',\n",
       " 'api/java.base/java/io/RandomAccessFile.html#readUTF()',\n",
       " 'api/java.base/java/io/RandomAccessFile.html#seek(long)',\n",
       " 'api/java.base/java/io/RandomAccessFile.html#setLength(long)',\n",
       " 'api/java.base/java/io/RandomAccessFile.html#skipBytes(int)',\n",
       " 'api/java.base/java/io/RandomAccessFile.html#write(byte%5B%5D)',\n",
       " 'api/java.base/java/io/RandomAccessFile.html#write(byte%5B%5D,int,int)',\n",
       " 'api/java.base/java/io/RandomAccessFile.html#write(int)',\n",
       " 'api/java.base/java/io/RandomAccessFile.html#writeBoolean(boolean)',\n",
       " 'api/java.base/java/io/RandomAccessFile.html#writeByte(int)',\n",
       " 'api/java.base/java/io/RandomAccessFile.html#writeBytes(java.lang.String)',\n",
       " 'api/java.base/java/io/RandomAccessFile.html#writeChar(int)',\n",
       " 'api/java.base/java/io/RandomAccessFile.html#writeChars(java.lang.String)',\n",
       " 'api/java.base/java/io/RandomAccessFile.html#writeDouble(double)',\n",
       " 'api/java.base/java/io/RandomAccessFile.html#writeFloat(float)',\n",
       " 'api/java.base/java/io/RandomAccessFile.html#writeInt(int)',\n",
       " 'api/java.base/java/io/RandomAccessFile.html#writeLong(long)',\n",
       " 'api/java.base/java/io/RandomAccessFile.html#writeShort(int)',\n",
       " 'api/java.base/java/io/RandomAccessFile.html#writeUTF(java.lang.String)',\n",
       " 'api/java.base/java/io/Reader.html#close()',\n",
       " 'api/java.base/java/io/Reader.html#mark(int)',\n",
       " 'api/java.base/java/io/Reader.html#markSupported()',\n",
       " 'api/java.base/java/io/Reader.html#nullReader()',\n",
       " 'api/java.base/java/io/Reader.html#read()',\n",
       " 'api/java.base/java/io/Reader.html#read(char%5B%5D)',\n",
       " 'api/java.base/java/io/Reader.html#read(char%5B%5D,int,int)',\n",
       " 'api/java.base/java/io/Reader.html#read(java.nio.CharBuffer)',\n",
       " 'api/java.base/java/io/Reader.html#ready()',\n",
       " 'api/java.base/java/io/Reader.html#reset()',\n",
       " 'api/java.base/java/io/Reader.html#skip(long)',\n",
       " 'api/java.base/java/io/Reader.html#transferTo(java.io.Writer)',\n",
       " 'api/java.base/java/io/SequenceInputStream.html#available()',\n",
       " 'api/java.base/java/io/SequenceInputStream.html#close()',\n",
       " 'api/java.base/java/io/SequenceInputStream.html#read()',\n",
       " 'api/java.base/java/io/SequenceInputStream.html#read(byte%5B%5D,int,int)',\n",
       " 'api/java.base/java/io/StreamTokenizer.html#commentChar(int)',\n",
       " 'api/java.base/java/io/StreamTokenizer.html#eolIsSignificant(boolean)',\n",
       " 'api/java.base/java/io/StreamTokenizer.html#lineno()',\n",
       " 'api/java.base/java/io/StreamTokenizer.html#lowerCaseMode(boolean)',\n",
       " 'api/java.base/java/io/StreamTokenizer.html#nextToken()',\n",
       " 'api/java.base/java/io/StreamTokenizer.html#ordinaryChar(int)',\n",
       " 'api/java.base/java/io/StreamTokenizer.html#ordinaryChars(int,int)',\n",
       " 'api/java.base/java/io/StreamTokenizer.html#parseNumbers()',\n",
       " 'api/java.base/java/io/StreamTokenizer.html#pushBack()',\n",
       " 'api/java.base/java/io/StreamTokenizer.html#quoteChar(int)',\n",
       " 'api/java.base/java/io/StreamTokenizer.html#resetSyntax()',\n",
       " 'api/java.base/java/io/StreamTokenizer.html#slashSlashComments(boolean)',\n",
       " ...]"
      ]
     },
     "metadata": {},
     "execution_count": 6
    }
   ],
   "source": [
    "method_nodes = [node for node in concept_map.nodes if 'Ntype' in concept_map.nodes[node].keys() and concept_map.nodes[node]['Ntype'] == 'METHOD']\n",
    "method_nodes"
   ]
  },
  {
   "cell_type": "code",
   "execution_count": 6,
   "metadata": {
    "collapsed": true,
    "jupyter": {
     "outputs_hidden": true
    }
   },
   "outputs": [
    {
     "output_type": "error",
     "ename": "NameError",
     "evalue": "name 'method_nodes' is not defined",
     "traceback": [
      "\u001b[1;31m---------------------------------------------------------------------------\u001b[0m",
      "\u001b[1;31mNameError\u001b[0m                                 Traceback (most recent call last)",
      "\u001b[1;32m<ipython-input-6-1aea7e42f2a6>\u001b[0m in \u001b[0;36m<module>\u001b[1;34m\u001b[0m\n\u001b[1;32m----> 1\u001b[1;33m \u001b[0mspecial_nodes\u001b[0m \u001b[1;33m=\u001b[0m \u001b[1;33m[\u001b[0m\u001b[0mnode\u001b[0m \u001b[1;32mfor\u001b[0m \u001b[0mnode\u001b[0m \u001b[1;32min\u001b[0m \u001b[0mmethod_nodes\u001b[0m \u001b[1;32mif\u001b[0m \u001b[1;34m'%5B'\u001b[0m \u001b[1;32min\u001b[0m \u001b[0mnode\u001b[0m\u001b[1;33m]\u001b[0m\u001b[1;33m\u001b[0m\u001b[1;33m\u001b[0m\u001b[0m\n\u001b[0m\u001b[0;32m      2\u001b[0m \u001b[0mspecial_nodes\u001b[0m\u001b[1;33m\u001b[0m\u001b[1;33m\u001b[0m\u001b[0m\n",
      "\u001b[1;31mNameError\u001b[0m: name 'method_nodes' is not defined"
     ]
    }
   ],
   "source": [
    "special_nodes = [node for node in method_nodes if '%5B' in node]\n",
    "special_nodes"
   ]
  },
  {
   "cell_type": "code",
   "execution_count": 7,
   "metadata": {},
   "outputs": [
    {
     "output_type": "execute_result",
     "data": {
      "text/plain": [
       "<networkx.classes.digraph.DiGraph at 0x207147fc048>"
      ]
     },
     "metadata": {},
     "execution_count": 7
    }
   ],
   "source": [
    "nx.bfs_tree(concept_map, 'java.util.concurrent')"
   ]
  },
  {
   "cell_type": "code",
   "execution_count": 28,
   "metadata": {},
   "outputs": [],
   "source": [
    "test = nx.Graph()\n",
    "test.add_node(1)\n",
    "test.add_node(2)\n",
    "test.add_node(3)\n",
    "test.add_node(4)\n",
    "test.add_node(5)\n",
    "test.add_edge(1, 2, a = 1)\n",
    "test.add_edge(1, 3, a = 1)\n",
    "test.add_edge(2, 4, a = 1)\n",
    "test.add_edge(3, 5, a = 1)\n",
    "test.add_edge(2, 5, a = 1)\n",
    "test.add_edge(5, 4, a = 1)\n",
    "test.add_node(6)\n",
    "test.add_edge(6, 7, a = 1)"
   ]
  },
  {
   "cell_type": "code",
   "execution_count": 43,
   "metadata": {},
   "outputs": [
    {
     "output_type": "execute_result",
     "data": {
      "text/plain": [
       "[5, 4, 2, 1]"
      ]
     },
     "metadata": {},
     "execution_count": 43
    }
   ],
   "source": [
    "sub_nodes = list(nx.dfs_postorder_nodes(test, 1, 4))\n",
    "sub_nodes"
   ]
  },
  {
   "cell_type": "code",
   "execution_count": 44,
   "metadata": {},
   "outputs": [
    {
     "output_type": "execute_result",
     "data": {
      "text/plain": [
       "[(1, 2), (2, 4), (2, 5), (4, 5)]"
      ]
     },
     "metadata": {},
     "execution_count": 44
    }
   ],
   "source": [
    "list(test.subgraph(sub_nodes).edges())"
   ]
  },
  {
   "cell_type": "code",
   "execution_count": null,
   "metadata": {},
   "outputs": [],
   "source": [
    "test.out_edges(1)"
   ]
  },
  {
   "cell_type": "code",
   "execution_count": null,
   "metadata": {},
   "outputs": [],
   "source": [
    "for e in test.out_edges(1):\n",
    "    print(e[1])\n",
    "    print(e['a'])"
   ]
  },
  {
   "cell_type": "code",
   "execution_count": null,
   "metadata": {},
   "outputs": [],
   "source": []
  }
 ],
 "metadata": {
  "kernelspec": {
   "display_name": "new_so_kernal",
   "language": "python",
   "name": "new_so_kernal"
  },
  "language_info": {
   "codemirror_mode": {
    "name": "ipython",
    "version": 3
   },
   "file_extension": ".py",
   "mimetype": "text/x-python",
   "name": "python",
   "nbconvert_exporter": "python",
   "pygments_lexer": "ipython3",
   "version": "3.7.3-final"
  }
 },
 "nbformat": 4,
 "nbformat_minor": 4
}