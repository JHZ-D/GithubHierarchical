{
 "metadata": {
  "language_info": {
   "codemirror_mode": {
    "name": "ipython",
    "version": 3
   },
   "file_extension": ".py",
   "mimetype": "text/x-python",
   "name": "python",
   "nbconvert_exporter": "python",
   "pygments_lexer": "ipython3",
   "version": "3.7.3-final"
  },
  "orig_nbformat": 2,
  "kernelspec": {
   "name": "new_so_kernal",
   "display_name": "new_so_kernal",
   "language": "python"
  }
 },
 "nbformat": 4,
 "nbformat_minor": 2,
 "cells": [
  {
   "cell_type": "code",
   "execution_count": 1,
   "metadata": {},
   "outputs": [
    {
     "output_type": "execute_result",
     "data": {
      "text/plain": [
       "['posts_0.pkl']"
      ]
     },
     "metadata": {},
     "execution_count": 1
    }
   ],
   "source": [
    "import os\n",
    "import pickle\n",
    "from bs4 import BeautifulSoup\n",
    "JAVA_SO_POSTS_STORE_PATH = 'C:/workspace/SOworkspace/data/so_posts/java/'\n",
    "post_file_names = os.listdir(JAVA_SO_POSTS_STORE_PATH)\n",
    "post_file_names[0:1]"
   ]
  },
  {
   "cell_type": "code",
   "execution_count": 45,
   "metadata": {},
   "outputs": [],
   "source": [
    "'''\n",
    "从已经提取的句子里找点case做一下处理尝试\n",
    "下面是选取的典型句子sample\n",
    "'''\n",
    "sample_text = '''<p>As a part of a project I want to make a table with different type of object for each cell but I can't understand how to make every cell customized ... I found <a href=\\\"https://docs.oracle.com/javase/tutorial/uiswing/components/table.html\\\" rel=\\\"nofollow noreferrer\\\">here</a> how to set a column which has a type of object like String, Bool, Slider ... but for each Cell I don't know!</p>&#xA;&#xA;<p>This picture is from properties part of <a href=\\\"http://www.formdev.com/\\\" rel=\\\"nofollow noreferrer\\\">jformDesigner</a> software and I want something like this table :</p>&#xA;&#xA;<p><a href=\\\"https://i.stack.imgur.com/ZL8GO.jpg\\\" rel=\\\"nofollow noreferrer\\\"><img src=\\\"https://i.stack.imgur.com/ZL8GO.jpg\\\" alt=\\\"enter image description here\\\"></a></p>&#xA;'''\n",
    "    "
   ]
  },
  {
   "cell_type": "code",
   "execution_count": 46,
   "metadata": {},
   "outputs": [
    {
     "output_type": "execute_result",
     "data": {
      "text/plain": [
       "\"As a part of a project I want to make a table with different type of object for each cell but I can't understand how to make every cell customized ... I found here how to set a column which has a type of object like String, Bool, Slider ... but for each Cell I don't know!\\nThis picture is from properties part of jformDesigner software and I want something like this table :\\n\\n\""
      ]
     },
     "metadata": {},
     "execution_count": 46
    }
   ],
   "source": [
    "soup = BeautifulSoup(sample_text, 'lxml')\n",
    "soup.text"
   ]
  },
  {
   "cell_type": "code",
   "execution_count": 47,
   "metadata": {},
   "outputs": [
    {
     "output_type": "execute_result",
     "data": {
      "text/plain": [
       "\"As a part of a project I want to make a table with different type of object for each cell but I can't understand how to make every cell customized ... I found here how to set a column which has a type of object like String, Bool, Slider ... but for each Cell I don't know!\\nThis picture is from properties part of jformDesigner software and I want something like this table :\\n\\n\""
      ]
     },
     "metadata": {},
     "execution_count": 47
    }
   ],
   "source": [
    "for pre in soup.find_all('pre'):\n",
    "    pre.extract()\n",
    "soup.text"
   ]
  },
  {
   "cell_type": "code",
   "execution_count": 48,
   "metadata": {},
   "outputs": [
    {
     "output_type": "execute_result",
     "data": {
      "text/plain": [
       "<html><body><p>As a part of a project I want to make a table with different type of object for each cell but I can't understand how to make every cell customized ... I found <a href=\"https://docs.oracle.com/javase/tutorial/uiswing/components/table.html\" rel=\"nofollow noreferrer\">here</a> how to set a column which has a type of object like String, Bool, Slider ... but for each Cell I don't know!</p>\n",
       "<p>This picture is from properties part of <a href=\"http://www.formdev.com/\" rel=\"nofollow noreferrer\">jformDesigner</a> software and I want something like this table :</p>\n",
       "<p><a href=\"https://i.stack.imgur.com/ZL8GO.jpg\" rel=\"nofollow noreferrer\"><img alt=\"enter image description here\" src=\"https://i.stack.imgur.com/ZL8GO.jpg\"/></a></p>\n",
       "</body></html>"
      ]
     },
     "metadata": {},
     "execution_count": 48
    }
   ],
   "source": [
    "soup"
   ]
  },
  {
   "cell_type": "code",
   "execution_count": 49,
   "metadata": {},
   "outputs": [
    {
     "output_type": "execute_result",
     "data": {
      "text/plain": [
       "['here', 'jformDesigner']"
      ]
     },
     "metadata": {},
     "execution_count": 49
    }
   ],
   "source": [
    "a_texts = [a.text for a in soup.find_all('a') if len(a.text) > 1]\n",
    "a_texts"
   ]
  },
  {
   "cell_type": "code",
   "execution_count": 50,
   "metadata": {},
   "outputs": [
    {
     "output_type": "execute_result",
     "data": {
      "text/plain": [
       "[\"As a part of a project I want to make a table with different type of object for each cell but I can't understand how to make every cell customized ..\",\n",
       " '. ',\n",
       " '.',\n",
       " 'I found here how to set a column which has a type of object like String, Bool, Slider ..',\n",
       " '. ',\n",
       " '.',\n",
       " \"but for each Cell I don't know\",\n",
       " '!\\n',\n",
       " '!',\n",
       " 'This picture is from properties part of jformDesigner software and I want something like this table',\n",
       " ' :\\n\\n',\n",
       " ':',\n",
       " '']"
      ]
     },
     "metadata": {},
     "execution_count": 50
    }
   ],
   "source": [
    "import re\n",
    "lines = re.split(r'(\\s*(\\.|:|\\?|!)\\s+|\\n)+', soup.text)\n",
    "lines"
   ]
  },
  {
   "cell_type": "code",
   "execution_count": 51,
   "metadata": {},
   "outputs": [
    {
     "output_type": "execute_result",
     "data": {
      "text/plain": [
       "['I found here how to set a column which has a type of object like String, Bool, Slider ..',\n",
       " 'This picture is from properties part of jformDesigner software and I want something like this table']"
      ]
     },
     "metadata": {},
     "execution_count": 51
    }
   ],
   "source": [
    "candidate_lines = [line for line in lines if any([t for t in a_texts if t in line])]\n",
    "candidate_lines"
   ]
  },
  {
   "cell_type": "code",
   "execution_count": 10,
   "metadata": {},
   "outputs": [
    {
     "output_type": "execute_result",
     "data": {
      "text/plain": [
       "[[16, 31]]"
      ]
     },
     "metadata": {},
     "execution_count": 10
    }
   ],
   "source": [
    "def get_all_indexes(sub : str, s : str):\n",
    "    ret = []\n",
    "    start_from_index = 0\n",
    "    while start_from_index < len(s):\n",
    "        sub_begin_index = s.find(sub,start_from_index)\n",
    "        if sub_begin_index == -1:\n",
    "            break\n",
    "        sub_end_index = sub_begin_index + len(sub) - 1\n",
    "        ret.append([sub_begin_index, sub_end_index])\n",
    "        start_from_index = sub_end_index + 1\n",
    "    return ret\n",
    "\n",
    "get_all_indexes('diamond operator' , '''It's called the diamond operator. It was introduced in Java 1.7.''')"
   ]
  },
  {
   "cell_type": "code",
   "execution_count": 11,
   "metadata": {},
   "outputs": [
    {
     "output_type": "execute_result",
     "data": {
      "text/plain": [
       "[{'text': \"It's called the diamond operator. It was introduced in Java 1.7.\",\n",
       "  'label': {'api': {'diamond operator': [[16, 31]]}}}]"
      ]
     },
     "metadata": {},
     "execution_count": 11
    }
   ],
   "source": [
    "trainset = []\n",
    "for candidate in candidate_lines:\n",
    "    train_data = {\n",
    "        \"text\" : candidate,\n",
    "        \"label\" : {\n",
    "            \"api\" : {}\n",
    "        }\n",
    "    }\n",
    "    labels = {}\n",
    "    for a_text in a_texts:\n",
    "        if a_text in candidate:\n",
    "            labels[a_text] = get_all_indexes(a_text, candidate)\n",
    "    train_data[\"label\"][\"api\"] = labels\n",
    "    trainset.append(train_data)\n",
    "trainset"
   ]
  },
  {
   "cell_type": "code",
   "execution_count": 12,
   "metadata": {},
   "outputs": [],
   "source": [
    "import json\n",
    "json_str = json.dumps(trainset[0], ensure_ascii=False)"
   ]
  },
  {
   "cell_type": "code",
   "execution_count": 13,
   "metadata": {},
   "outputs": [
    {
     "output_type": "execute_result",
     "data": {
      "text/plain": [
       "'{\"text\": \"It\\'s called the diamond operator. It was introduced in Java 1.7.\", \"label\": {\"api\": {\"diamond operator\": [[16, 31]]}}}'"
      ]
     },
     "metadata": {},
     "execution_count": 13
    }
   ],
   "source": [
    "json_str\n",
    "\"\"\"\n",
    "训练集生成尝试完毕，上述代码将被总结并加入EUREKA-2\n",
    "\"\"\""
   ]
  },
  {
   "cell_type": "code",
   "execution_count": null,
   "metadata": {},
   "outputs": [],
   "source": []
  }
 ]
}