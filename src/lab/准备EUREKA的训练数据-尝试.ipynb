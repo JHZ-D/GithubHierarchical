{
 "metadata": {
  "language_info": {
   "codemirror_mode": {
    "name": "ipython",
    "version": 3
   },
   "file_extension": ".py",
   "mimetype": "text/x-python",
   "name": "python",
   "nbconvert_exporter": "python",
   "pygments_lexer": "ipython3",
   "version": "3.7.3-final"
  },
  "orig_nbformat": 2,
  "kernelspec": {
   "name": "new_so_kernal",
   "display_name": "new_so_kernal",
   "language": "python"
  }
 },
 "nbformat": 4,
 "nbformat_minor": 2,
 "cells": [
  {
   "cell_type": "code",
   "execution_count": 1,
   "metadata": {},
   "outputs": [
    {
     "output_type": "execute_result",
     "data": {
      "text/plain": [
       "['posts_0.pkl']"
      ]
     },
     "metadata": {},
     "execution_count": 1
    }
   ],
   "source": [
    "import os\n",
    "import pickle\n",
    "from bs4 import BeautifulSoup\n",
    "JAVA_SO_POSTS_STORE_PATH = 'C:/workspace/SOworkspace/data/so_posts/java/'\n",
    "post_file_names = os.listdir(JAVA_SO_POSTS_STORE_PATH)\n",
    "post_file_names[0:1]"
   ]
  },
  {
   "cell_type": "code",
   "execution_count": 2,
   "metadata": {},
   "outputs": [],
   "source": [
    "'''\n",
    "从已经提取的句子里找点case做一下处理尝试\n",
    "下面是选取的典型句子sample\n",
    "'''\n",
    "sample_text = '''<p>It's called the <a href=\\\"https://docs.oracle.com/javase/8/docs/technotes/guides/language/type-inference-generic-instance-creation.html\\\" rel=\\\"nofollow\\\">diamond operator</a>. It was introduced in Java 1.7.</p>&#xA;&#xA;<p>The benefit is just that you need to write less code.</p>&#xA;&#xA;<p>Compare</p>&#xA;&#xA;<pre><code>List&lt;Map&lt;String, Integer&gt;&gt; list = new ArrayList&lt;Map&lt;String, Integer&gt;&gt;();&#xA;</code></pre>&#xA;&#xA;<p>to</p>&#xA;&#xA;<pre><code>List&lt;Map&lt;String, Integer&gt;&gt; list = new ArrayList&lt;&gt;();&#xA;</code></pre>&#xA;'''\n",
    "    "
   ]
  },
  {
   "cell_type": "code",
   "execution_count": 3,
   "metadata": {},
   "outputs": [
    {
     "output_type": "execute_result",
     "data": {
      "text/plain": [
       "\"It's called the diamond operator. It was introduced in Java 1.7.\\nThe benefit is just that you need to write less code.\\nCompare\\nList<Map<String, Integer>> list = new ArrayList<Map<String, Integer>>();\\n\\nto\\nList<Map<String, Integer>> list = new ArrayList<>();\\n\\n\""
      ]
     },
     "metadata": {},
     "execution_count": 3
    }
   ],
   "source": [
    "soup = BeautifulSoup(sample_text, 'lxml')\n",
    "soup.text"
   ]
  },
  {
   "cell_type": "code",
   "execution_count": 4,
   "metadata": {},
   "outputs": [
    {
     "output_type": "execute_result",
     "data": {
      "text/plain": [
       "\"It's called the diamond operator. It was introduced in Java 1.7.\\nThe benefit is just that you need to write less code.\\nCompare\\n\\nto\\n\\n\""
      ]
     },
     "metadata": {},
     "execution_count": 4
    }
   ],
   "source": [
    "for pre in soup.find_all('pre'):\n",
    "    pre.extract()\n",
    "soup.text"
   ]
  },
  {
   "cell_type": "code",
   "execution_count": 5,
   "metadata": {},
   "outputs": [
    {
     "output_type": "execute_result",
     "data": {
      "text/plain": [
       "<html><body><p>It's called the <a href=\"https://docs.oracle.com/javase/8/docs/technotes/guides/language/type-inference-generic-instance-creation.html\" rel=\"nofollow\">diamond operator</a>. It was introduced in Java 1.7.</p>\n",
       "<p>The benefit is just that you need to write less code.</p>\n",
       "<p>Compare</p>\n",
       "\n",
       "<p>to</p>\n",
       "\n",
       "</body></html>"
      ]
     },
     "metadata": {},
     "execution_count": 5
    }
   ],
   "source": [
    "soup"
   ]
  },
  {
   "cell_type": "code",
   "execution_count": 6,
   "metadata": {},
   "outputs": [
    {
     "output_type": "execute_result",
     "data": {
      "text/plain": [
       "['diamond operator']"
      ]
     },
     "metadata": {},
     "execution_count": 6
    }
   ],
   "source": [
    "a_texts = [a.text for a in soup.find_all('a') if len(a.text) > 1]\n",
    "a_texts"
   ]
  },
  {
   "cell_type": "code",
   "execution_count": 7,
   "metadata": {},
   "outputs": [
    {
     "output_type": "execute_result",
     "data": {
      "text/plain": [
       "[\"It's called the diamond operator. It was introduced in Java 1.7.\",\n",
       " 'The benefit is just that you need to write less code.',\n",
       " 'Compare',\n",
       " '',\n",
       " 'to',\n",
       " '',\n",
       " '']"
      ]
     },
     "metadata": {},
     "execution_count": 7
    }
   ],
   "source": [
    "lines = soup.text.split('\\n')\n",
    "lines"
   ]
  },
  {
   "cell_type": "code",
   "execution_count": 8,
   "metadata": {},
   "outputs": [
    {
     "output_type": "execute_result",
     "data": {
      "text/plain": [
       "[\"It's called the diamond operator. It was introduced in Java 1.7.\"]"
      ]
     },
     "metadata": {},
     "execution_count": 8
    }
   ],
   "source": [
    "candidate_lines = [line for line in lines if any([t for t in a_texts if t in line])]\n",
    "candidate_lines"
   ]
  },
  {
   "cell_type": "code",
   "execution_count": 10,
   "metadata": {},
   "outputs": [
    {
     "output_type": "execute_result",
     "data": {
      "text/plain": [
       "[[16, 31]]"
      ]
     },
     "metadata": {},
     "execution_count": 10
    }
   ],
   "source": [
    "def get_all_indexes(sub : str, s : str):\n",
    "    ret = []\n",
    "    start_from_index = 0\n",
    "    while start_from_index < len(s):\n",
    "        sub_begin_index = s.find(sub,start_from_index)\n",
    "        if sub_begin_index == -1:\n",
    "            break\n",
    "        sub_end_index = sub_begin_index + len(sub) - 1\n",
    "        ret.append([sub_begin_index, sub_end_index])\n",
    "        start_from_index = sub_end_index + 1\n",
    "    return ret\n",
    "\n",
    "get_all_indexes('diamond operator' , '''It's called the diamond operator. It was introduced in Java 1.7.''')"
   ]
  },
  {
   "cell_type": "code",
   "execution_count": 11,
   "metadata": {},
   "outputs": [
    {
     "output_type": "execute_result",
     "data": {
      "text/plain": [
       "[{'text': \"It's called the diamond operator. It was introduced in Java 1.7.\",\n",
       "  'label': {'api': {'diamond operator': [[16, 31]]}}}]"
      ]
     },
     "metadata": {},
     "execution_count": 11
    }
   ],
   "source": [
    "trainset = []\n",
    "for candidate in candidate_lines:\n",
    "    train_data = {\n",
    "        \"text\" : candidate,\n",
    "        \"label\" : {\n",
    "            \"api\" : {}\n",
    "        }\n",
    "    }\n",
    "    labels = {}\n",
    "    for a_text in a_texts:\n",
    "        if a_text in candidate:\n",
    "            labels[a_text] = get_all_indexes(a_text, candidate)\n",
    "    train_data[\"label\"][\"api\"] = labels\n",
    "    trainset.append(train_data)\n",
    "trainset"
   ]
  },
  {
   "cell_type": "code",
   "execution_count": 12,
   "metadata": {},
   "outputs": [],
   "source": [
    "import json\n",
    "json_str = json.dumps(trainset[0], ensure_ascii=False)"
   ]
  },
  {
   "cell_type": "code",
   "execution_count": 13,
   "metadata": {},
   "outputs": [
    {
     "output_type": "execute_result",
     "data": {
      "text/plain": [
       "'{\"text\": \"It\\'s called the diamond operator. It was introduced in Java 1.7.\", \"label\": {\"api\": {\"diamond operator\": [[16, 31]]}}}'"
      ]
     },
     "metadata": {},
     "execution_count": 13
    }
   ],
   "source": [
    "json_str\n",
    "\"\"\"\n",
    "训练集生成尝试完毕，上述代码将被总结并加入EUREKA-2\n",
    "\"\"\""
   ]
  },
  {
   "cell_type": "code",
   "execution_count": null,
   "metadata": {},
   "outputs": [],
   "source": []
  }
 ]
}