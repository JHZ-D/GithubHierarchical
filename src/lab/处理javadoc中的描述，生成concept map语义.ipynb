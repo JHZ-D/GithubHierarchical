{
 "cells": [
  {
   "cell_type": "code",
   "execution_count": 1,
   "metadata": {},
   "outputs": [],
   "source": [
    "import pickle\n",
    "import json"
   ]
  },
  {
   "cell_type": "code",
   "execution_count": 2,
   "metadata": {},
   "outputs": [],
   "source": [
    "javadoc_description_path = r'C:/workspace/SOworkspace/data/apidoc_description/javadoc_descriptions.pkl'"
   ]
  },
  {
   "cell_type": "code",
   "execution_count": 10,
   "metadata": {},
   "outputs": [],
   "source": [
    "import regex as re\n",
    "from tqdm import tqdm"
   ]
  },
  {
   "cell_type": "code",
   "execution_count": 3,
   "metadata": {},
   "outputs": [
    {
     "output_type": "execute_result",
     "data": {
      "text/plain": [
       "37531"
      ]
     },
     "metadata": {},
     "execution_count": 3
    }
   ],
   "source": [
    "with open(javadoc_description_path, 'rb') as rf:\n",
    "    javadoc_descriptions = pickle.load(rf)\n",
    "len(javadoc_descriptions)"
   ]
  },
  {
   "source": [
    "list(javadoc_descriptions.items())"
   ],
   "cell_type": "code",
   "metadata": {
    "collapsed": true,
    "jupyter": {
     "outputs_hidden": true
    }
   },
   "execution_count": 4,
   "outputs": [
    {
     "output_type": "execute_result",
     "data": {
      "text/plain": [
       "e null.'),\n",
       " ('api/jdk.jshell/jdk/jshell/SnippetEvent.html#isSignatureChange()',\n",
       "  'Indicates whether the signature has changed. Coming in or out of definition is always a signature change. An overwritten Snippet (status == OVERWRITTEN) is always false as responsibility for the definition has passed to the overwriting definition.'),\n",
       " ('api/jdk.jshell/jdk/jshell/SnippetEvent.html#previousStatus()',\n",
       "  'The status before the transition. If this event describes a Snippet creation return NONEXISTENT.'),\n",
       " ('api/jdk.jshell/jdk/jshell/SnippetEvent.html#snippet()',\n",
       "  'The Snippet which has changed'),\n",
       " ('api/jdk.jshell/jdk/jshell/SnippetEvent.html#status()',\n",
       "  'The after status. Note: this may be the same as the previous status (not all changes cause a Status change.'),\n",
       " ('api/jdk.jshell/jdk/jshell/SnippetEvent.html#toString()',\n",
       "  'Return a string representation of the event'),\n",
       " ('api/jdk.jshell/jdk/jshell/SnippetEvent.html#value()',\n",
       "  'The result value of successful run. The value is null if not executed or an exception was thrown.'),\n",
       " ('api/jdk.jshell/jdk/jshell/SourceCodeAnalysis.html',\n",
       "  'Provides analysis utilities for source code input. Optional functionality that provides for a richer interactive experience. Includes completion analysis: Is the input a complete snippet of code? Do I need to prompt for more input? Would adding a semicolon make it complete? Is there more than one snippet? etc. Also includes completion suggestions, as might be used in tab-completion.'),\n",
       " ('api/jdk.jshell/jdk/jshell/SourceCodeAnalysis.html#analyzeCompletion(java.lang.String)',\n",
       "  'Given an input string, find the first snippet of code (one statement, definition, import, or expression) and evaluate if it is complete.'),\n",
       " ('api/jdk.jshell/jdk/jshell/SourceCodeAnalysis.html#analyzeType(java.lang.String,int)',\n",
       "  'Infer the type of the given expression. The expression spans from the beginning of code to the given cursor position. Returns null if the type of the expression cannot be inferred.'),\n",
       " ('api/jdk.jshell/jdk/jshell/SourceCodeAnalysis.html#completionSuggestions(java.lang.String,int,int%5B%5D)',\n",
       "  'Compute possible follow-ups for the given input. Uses information from the current JShell state, including type information, to filter the suggestions.'),\n",
       " ('api/jdk.jshell/jdk/jshell/SourceCodeAnalysis.html#dependents(jdk.jshell.Snippet)',\n",
       "  'Returns a collection of Snippets which might need updating if the given Snippet is updated. The returned collection is designed to be inclusive and may include many false positives.'),\n",
       " ('api/jdk.jshell/jdk/jshell/SourceCodeAnalysis.html#documentation(java.lang.String,int,boolean)',\n",
       "  \"Compute documentation for the given user's input. Multiple Documentation objects may be returned when multiple elements match the user's input (like for overloaded methods).\"),\n",
       " ('api/jdk.jshell/jdk/jshell/SourceCodeAnalysis.html#listQualifiedNames(java.lang.String,int)',\n",
       "  'List qualified names known for the simple name in the given code immediately to the left of the given cursor position. The qualified names are gathered by inspecting the classpath used by eval (see JShell.addToClasspath(java.lang.String)).'),\n",
       " ('api/jdk.jshell/jdk/jshell/SourceCodeAnalysis.html#sourceToSnippets(java.lang.String)',\n",
       "  'Converts the source code of a snippet into a Snippet object (or list of Snippet objects in the case of some var declarations, e.g.: int x, y, z;). Does not install the snippets: declarations are not accessible by other snippets; imports are not added. Does not execute the snippets.\\nQueries may be done on the Snippet object. The Snippet.id() will be \"*UNASSOCIATED*\". The returned snippets are not associated with the JShell instance, so attempts to pass them to JShell methods will throw an IllegalArgumentException. They will not appear in queries for snippets -- for example, JShell.snippets().\\nRestrictions on the input are as in JShell.eval.\\nOnly preliminary compilation is performed, sufficient to build the Snippet. Snippets known to be erroneous, are returned as ErroneousSnippet, other snippets may or may not be in error.'),\n",
       " ('api/jdk.jshell/jdk/jshell/SourceCodeAnalysis.html#wrapper(jdk.jshell.Snippet)',\n",
       "  'Returns the wrapper information for the Snippet. The wrapper changes as the environment changes, so calls to this method at different times may yield different results.'),\n",
       " ('api/jdk.jshell/jdk/jshell/SourceCodeAnalysis.html#wrappers(java.lang.String)',\n",
       "  'Returns the wrapper information for the snippet within the input source string.\\nWrapper information for malformed and incomplete snippets also generate wrappers. The list is in snippet encounter order. The wrapper changes as the environment changes, so calls to this method at different times may yield different results.\\nThe input should be exactly one complete snippet of source code, that is, one expression, statement, variable declaration, method declaration, class declaration, or import. To break arbitrary input into individual complete snippets, use analyzeCompletion(String).\\nThe wrapper may not match that returned by wrapper(Snippet), were the source converted to a Snippet.'),\n",
       " ('api/jdk.jshell/jdk/jshell/SourceCodeAnalysis.QualifiedNames.html',\n",
       "  'List of possible qualified names.'),\n",
       " ('api/jdk.jshell/jdk/jshell/SourceCodeAnalysis.QualifiedNames.html#getNames()',\n",
       "  'Known qualified names for the given simple name in the original code.'),\n",
       " ('api/jdk.jshell/jdk/jshell/SourceCodeAnalysis.QualifiedNames.html#getSimpleNameLength()',\n",
       "  'The length of the simple name in the original code for which the qualified names where gathered.'),\n",
       " ('api/jdk.jshell/jdk/jshell/SourceCodeAnalysis.QualifiedNames.html#isResolvable()',\n",
       "  'Indicates whether the given simple name in the original code refers to a resolvable element.'),\n",
       " ('api/jdk.jshell/jdk/jshell/SourceCodeAnalysis.QualifiedNames.html#isUpToDate()',\n",
       "  'Indicates whether the result is based on up-to-date data. The listQualifiedNames method may return before the classpath is fully inspected, in which case this method will return false. If the result is based on a fully inspected classpath, this method will return true.'),\n",
       " ('api/jdk.jshell/jdk/jshell/StatementSnippet.html',\n",
       "  'Snippet for a statement. The Kind is Snippet.Kind.STATEMENT.\\nStatementSnippet is immutable: an access to any of its methods will always return the same result. and thus is thread-safe.'),\n",
       " ('api/jdk.jshell/jdk/jshell/TypeDeclSnippet.html',\n",
       "  'Snippet for a type definition (a class, interface, enum, or annotation interface definition). The Kind is Snippet.Kind.TYPE_DECL.\\nTypeDeclSnippet is immutable: an access to any of its methods will always return the same result. and thus is thread-safe.'),\n",
       " ('api/jdk.jshell/jdk/jshell/VarSnippet.html',\n",
       "  'Snippet for a variable definition. The Kind is Snippet.Kind.VAR.\\nVarSnippet is immutable: an access to any of its methods will always return the same result. and thus is thread-safe.'),\n",
       " ('api/jdk.jshell/jdk/jshell/VarSnippet.html#typeName()',\n",
       "  'A String representation of the type of the variable.'),\n",
       " ('api/jdk.jshell/jdk/jshell/Snippet.Kind.html',\n",
       "  'Describes the general kind of snippet. The Kind is an immutable property of a Snippet. It is accessed with Snippet.kind(). The Kind can be used to determine which subclass of Snippet it is. For example, eval(\"int three() { return 3; }\") will return a snippet creation event. The Kind of that Snippet will be METHOD, from which you know that the subclass of Snippet is MethodSnippet and it can be cast as such.'),\n",
       " ('api/jdk.jshell/jdk/jshell/Snippet.Status.html',\n",
       "  'Describes the current state of a Snippet. This is a dynamic property of a Snippet within the JShell state -- thus is retrieved with a query on {@code JShell}.\\nThe Status changes as the state changes. For example, creation of another snippet with eval may resolve dependencies of this Snippet (or invalidate those dependencies), or overwrite this Snippet changing its Status.\\nImportant properties associated with Status are: isDefined(), if it is visible to other existing and new snippets; and isActive(), if, as the JShell state changes, the snippet will update, possibly changing Status. An executable Snippet can only be executed if it is in the the VALID Status.'),\n",
       " ('api/jdk.jshell/jdk/jshell/Snippet.SubKind.html',\n",
       "  'The detailed variety of a snippet. This is a sub-classification of the Kind. The Kind of a SubKind is accessible with kind().'),\n",
       " ('api/jdk.jshell/jdk/jshell/SourceCodeAnalysis.Completeness.html',\n",
       "  'Describes the completeness of the given input.'),\n",
       " ('api/jdk.jshell/jdk/jshell/EvalException.html',\n",
       "  'Wraps an throwable thrown in the executing client. An instance of EvalException can be returned in the SnippetEvent.exception() query. The name of the throwable thrown is available from getExceptionClassName(). Message and stack can be queried by methods on Exception.\\nNote that in stack trace frames representing JShell Snippets, StackTraceElement.getFileName() will return \"#\" followed by the Snippet id and for snippets without a method name (for example an expression) StackTraceElement.getMethodName() will be the empty string.'),\n",
       " ('api/jdk.jshell/jdk/jshell/JShellException.html',\n",
       "  'The superclass of JShell generated exceptions'),\n",
       " ('api/jdk.jshell/jdk/jshell/UnresolvedReferenceException.html',\n",
       "  'Exception reported on attempting to execute a RECOVERABLE_DEFINED snippet.\\nThe stack can be queried by methods on Exception. Note that in stack trace frames representing JShell Snippets, StackTraceElement.getFileName() will return \"#\" followed by the Snippet id and for snippets without a method name (for example an expression) StackTraceElement.getName() will be the empty string.'),\n",
       " ('api/jdk.management.jfr/jdk/management/jfr/FlightRecorderMXBean.html',\n",
       "  'Management interface for controlling Flight Recorder.\\nThe object name for identifying the MXBean in the platform MBean server is:\\njdk.management.jfr:type=FlightRecorder\\nFlight Recorder can be configured in the following ways:\\n'),\n",
       " ('api/jdk.management.jfr/jdk/management/jfr/ConfigurationInfo.html',\n",
       "  'Management representation of a Configuration.'),\n",
       " ('api/jdk.management.jfr/jdk/management/jfr/ConfigurationInfo.html#from(javax.management.openmbean.CompositeData)',\n",
       "  'Returns a ConfigurationInfo object represented by the specified CompositeData.\\nThe following table shows the required attributes that the specified CompositeData must contain.\\nRequired names and types for CompositeData\\nName Type\\nname String\\nlabel String\\ndescription String\\nprovider String\\ncontents String\\nsettings javax.management.openmbean.TabularData with a TabularType with the keys \"key\" and \"value\", both of the String type'),\n",
       " ('api/jdk.management.jfr/jdk/management/jfr/ConfigurationInfo.html#getContents()',\n",
       "  'Returns the textual representation of the configuration associated with this ConfigurationInfo, typically the contents of the configuration file that was used to create the configuration.'),\n",
       " ('api/jdk.management.jfr/jdk/management/jfr/ConfigurationInfo.html#getDescription()',\n",
       "  'Returns a short sentence that describes the configuration associated with this ConfigurationInfo (for example, \"Low overhead configuration safe for continuous use in production environments\".'),\n",
       " ('api/jdk.management.jfr/jdk/management/jfr/ConfigurationInfo.html#getLabel()',\n",
       "  'Returns the human-readable name (for example, \"Continuous\" or \"Profiling\") for the configuration associated with this ConfigurationInfo'),\n",
       " ('api/jdk.management.jfr/jdk/management/jfr/ConfigurationInfo.html#getName()',\n",
       "  'Returns the name of the configuration associated with this ConfigurationInfo (for example, \"default\").'),\n",
       " ('api/jdk.management.jfr/jdk/management/jfr/ConfigurationInfo.html#getProvider()',\n",
       "  'Returns the provider of the configuration associated with this ConfigurationInfo (for example, \"OpenJDK\").'),\n",
       " ('api/jdk.management.jfr/jdk/management/jfr/ConfigurationInfo.html#getSettings()',\n",
       "  'Returns the settings for the configuration associated with this ConfigurationInfo.'),\n",
       " ('api/jdk.management.jfr/jdk/management/jfr/ConfigurationInfo.html#toString()',\n",
       "  'Returns a description of the configuration that is associated with this ConfigurationInfo.'),\n",
       " ('api/jdk.management.jfr/jdk/management/jfr/EventTypeInfo.html',\n",
       "  'Management representation of an EventType.'),\n",
       " ('api/jdk.management.jfr/jdk/management/jfr/EventTypeInfo.html#from(javax.management.openmbean.CompositeData)',\n",
       "  'Returns an EventType represented by the specified CompositeData\\nThe supplied CompositeData must have the following item names and item types to be valid.\\nThe name and type the specified CompositeData must contain\\nName Type\\nid Long\\nname String\\nlabel String\\ndescription String\\ncategory ArrayType(1, SimpleType.STRING)\\nsettings javax.management.openmbean.CompositeData[] whose element type is the mapped type for SettingDescriptorInfo as specified in the SettingDescriptorInfo.from(javax.management.openmbean.CompositeData) method.'),\n",
       " ('api/jdk.management.jfr/jdk/management/jfr/EventTypeInfo.html#getCategoryNames()',\n",
       "  'Returns the list of human-readable names that makes up the category for this EventTypeInfo (for example, \"Java Virtual Machine\" or \"Garbage Collector\").'),\n",
       " ('api/jdk.management.jfr/jdk/management/jfr/EventTypeInfo.html#getDescription()',\n",
       "  'Returns a short sentence or two describing the event type associated with this EventTypeInfo, for example \"Garbage collection performed by the JVM\"\".'),\n",
       " ('api/jdk.management.jfr/jdk/management/jfr/EventTypeInfo.html#getId()',\n",
       "  'Returns the unique ID for the event type associated with this EventTypeInfo, not guaranteed to be the same for different Java Virtual Machines (JVMs) instances.'),\n",
       " ('api/jdk.management.jfr/jdk/management/jfr/EventTypeInfo.html#getLabel()',\n",
       "  'Returns the label, a human-readable name, associated with the event type for this EventTypeInfo (for example, \"Garbage Collection\").'),\n",
       " ('api/jdk.management.jfr/jdk/management/jfr/EventTypeInfo.html#getName()',\n",
       "  'Returns the name for the event type associated with this EventTypeInfo (for example, \"jdk.GarbageCollection\").'),\n",
       " ('api/jdk.management.jfr/jdk/management/jfr/EventTypeInfo.html#getSettingDescriptors()',\n",
       "  'Returns settings for the event type associated with this EventTypeInfo.'),\n",
       " ('api/jdk.management.jfr/jdk/management/jfr/EventTypeInfo.html#toString()',\n",
       "  'Returns a description of this EventTypeInfo.'),\n",
       " ('api/jdk.management.jfr/jdk/management/jfr/RecordingInfo.html',\n",
       "  'Management representation of a Recording.'),\n",
       " ('api/jdk.management.jfr/jdk/management/jfr/RecordingInfo.html#from(javax.management.openmbean.CompositeData)',\n",
       "  'Returns a RecordingInfo represented by the specified CompositeData object.\\nThe specified CompositeData must have the following item names and item types to be valid.\\nSupported names and types in a specified CompositeData object\\nName Type\\nid Long\\nname String\\nstate String\\ndumpOnExit Boolean\\nsize Long\\ndisk Boolean\\nmaxAge Long\\nmaxSize Long\\nstartTime Long\\nstopTime Long\\ndestination String\\nduration Long\\nsettings javax.management.openmbean.CompositeData[] whose element type is the mapped type for SettingDescriptorInfo as specified in the SettingDescriptorInfo.from(javax.management.openmbean.CompositeData) method.'),\n",
       " ('api/jdk.management.jfr/jdk/management/jfr/RecordingInfo.html#getDestination()',\n",
       "  'Returns destination path where data, for the recording associated with this RecordingInfo, should be written when the recording stops, or null if the recording should not be written.'),\n",
       " ('api/jdk.management.jfr/jdk/management/jfr/RecordingInfo.html#getDumpOnExit()',\n",
       "  'Returns if the recording associated with this RecordingInfo should be dumped to file when the JVM exits.'),\n",
       " ('api/jdk.management.jfr/jdk/management/jfr/RecordingInfo.html#getDuration()',\n",
       "  'Returns the desired duration, measured in seconds, of the recording associated with this RecordingInfo, or {code 0} if no duration has been set.'),\n",
       " ('api/jdk.management.jfr/jdk/management/jfr/RecordingInfo.html#getId()',\n",
       "  'Returns the unique ID for the recording associated with this RecordingInfo.'),\n",
       " ('api/jdk.management.jfr/jdk/management/jfr/RecordingInfo.html#getMaxAge()',\n",
       "  'Returns how many seconds data should be kept on disk, or 0 if data is to be kept forever.\\nIn-memory recordings are not affected by maximum age.'),\n",
       " ('api/jdk.management.jfr/jdk/management/jfr/RecordingInfo.html#getMaxSize()',\n",
       "  \"Returns the amount of data, measured in bytes, the recording associated with this RecordingInfo, should be kept on disk, before it's rotated away, or 0 if data is to be kept indefinitely.\\nIn-memory recordings are not affected by maximum size.\"),\n",
       " ('api/jdk.management.jfr/jdk/management/jfr/RecordingInfo.html#getName()',\n",
       "  'Returns the name of the recording associated with this RecordingInfo.'),\n",
       " ('api/jdk.management.jfr/jdk/management/jfr/RecordingInfo.html#getSettings()',\n",
       "  'Returns the settings for the recording associated with this RecordingInfo.'),\n",
       " ('api/jdk.management.jfr/jdk/management/jfr/RecordingInfo.html#getSize()',\n",
       "  'Returns the amount data recorded by recording. associated with this RecordingInfo.'),\n",
       " ('api/jdk.management.jfr/jdk/management/jfr/RecordingInfo.html#getStartTime()',\n",
       "  \"Returns start time of the recording associated with this RecordingInfo, measured as ms since epoch, or null if the recording hasn't started.\"),\n",
       " ('api/jdk.management.jfr/jdk/management/jfr/RecordingInfo.html#getState()',\n",
       "  'Returns a String representation of state of the recording associated with this RecordingInfo.\\nValid return values are \"NEW\", \"DELAYED\", \"STARTING\", \"RUNNING\", \"STOPPING\", \"STOPPED\" and \"CLOSED\".'),\n",
       " ('api/jdk.management.jfr/jdk/management/jfr/RecordingInfo.html#getStopTime()',\n",
       "  'Returns the actual or expected stop time of the recording associated with this RecordingInfo, measured as ms since epoch, or null if the expected or actual stop time is not known, which can only happen if the recording has not yet been stopped.'),\n",
       " ('api/jdk.management.jfr/jdk/management/jfr/RecordingInfo.html#isToDisk()',\n",
       "  'Returns true if the recording associated with this RecordingInfo should be flushed to disk, when memory buffers are full, false otherwise.'),\n",
       " ('api/jdk.management.jfr/jdk/management/jfr/RecordingInfo.html#toString()',\n",
       "  'Returns a string description of the recording associated with this RecordingInfo'),\n",
       " ('api/jdk.management.jfr/jdk/management/jfr/SettingDescriptorInfo.html',\n",
       "  'Management class that describes a setting, for example name, description and default value.'),\n",
       " ('api/jdk.management.jfr/jdk/management/jfr/SettingDescriptorInfo.html#from(javax.management.openmbean.CompositeData)',\n",
       "  'Returns an SettingDescriptorInfo represented by the specified CompositeData\\nThe supplied CompositeData must have the following item names and item types to be valid.\\nThe name and type the specified CompositeData must contain\\nName Type\\nname String\\nlabel String\\ndescription String\\ntypeName String\\ncontentType String\\ndefaultValue String'),\n",
       " ('api/jdk.management.jfr/jdk/management/jfr/SettingDescriptorInfo.html#getContentType()',\n",
       "  'Returns the content type of the setting associated this SettingDescriptorInfo (for example, \"jdk.jfr.Timespan\").\\nThe content type can be used to determine how the setting should be rendered in a graphical user interface.'),\n",
       " ('api/jdk.management.jfr/jdk/management/jfr/SettingDescriptorInfo.html#getDefaultValue()',\n",
       "  'Returns the default value of the setting associated this SettingDescriptorInfo (for example, \"20 ms\").'),\n",
       " ('api/jdk.management.jfr/jdk/management/jfr/SettingDescriptorInfo.html#getDescription()',\n",
       "  'Returns the description of the setting associated this SettingDescriptorInfo (for example, \"The duration an event must exceed to be be recorded\").'),\n",
       " ('api/jdk.management.jfr/jdk/management/jfr/SettingDescriptorInfo.html#getLabel()',\n",
       "  'Returns the human-readable name of the setting associated with this SettingDescriptorInfo (for example, \"Threshold\").'),\n",
       " ...]"
      ]
     },
     "metadata": {},
     "execution_count": 4
    }
   ]
  },
  {
   "cell_type": "code",
   "execution_count": 13,
   "metadata": {},
   "outputs": [
    {
     "name": "stderr",
     "output_type": "stream",
     "text": [
      "100%|████████████████████████████████████████████████████████████████████████| 37531/37531 [00:00<00:00, 106018.75it/s]\n"
     ]
    }
   ],
   "source": [
    "\n",
    "'''\n",
    "try 3-lead algrithm\n",
    "'''\n",
    "lead3_result = {}\n",
    "english_punctuation_pattern = r'[\\.;,!]'\n",
    "for concept, desc in tqdm(javadoc_descriptions.items()):\n",
    "    sentences = re.split(english_punctuation_pattern, desc)\n",
    "    lead_3 = ','.join(sentences[:max([3, len(sentences)])]) + '.'\n",
    "    lead3_result[concept] = lead_3\n",
    "lead3_path = r'C:/workspace/SOworkspace/data/cache/javadoc_lead3.json'\n",
    "with open(lead3_path, 'w', encoding = 'utf-8') as wf:\n",
    "    json.dump(lead3_result, wf, ensure_ascii=False, indent=4)"
   ]
  },
  {
   "cell_type": "code",
   "execution_count": 14,
   "metadata": {},
   "outputs": [
    {
     "name": "stderr",
     "output_type": "stream",
     "text": [
      "[nltk_data] Downloading package punkt to\n",
      "[nltk_data]     C:\\Users\\尹航\\AppData\\Roaming\\nltk_data...\n",
      "[nltk_data]   Unzipping tokenizers\\punkt.zip.\n"
     ]
    },
    {
     "data": {
      "text/plain": [
       "True"
      ]
     },
     "execution_count": 14,
     "metadata": {},
     "output_type": "execute_result"
    }
   ],
   "source": [
    "'''\n",
    "try text rank\n",
    "'''\n",
    "import nltk\n",
    "nltk.download('punkt')"
   ]
  },
  {
   "cell_type": "code",
   "execution_count": 21,
   "metadata": {},
   "outputs": [
    {
     "name": "stdout",
     "output_type": "stream",
     "text": [
      "java\n",
      "class\n",
      "classes\n",
      "type\n",
      "types\n",
      "record\n",
      "records\n",
      "constructor\n",
      "nest\n",
      "mutual\n",
      "loader\n",
      "long\n",
      "time\n",
      "int\n"
     ]
    }
   ],
   "source": [
    "text = \"\"\"Instances of the class Class represent classes and interfaces in a running Java application. An enum type and a record type are kinds of class; an annotation type is a kind of interface. Every array also belongs to a class that is reflected as a Class object that is shared by all arrays with the same element type and number of dimensions. The primitive Java types (boolean, byte, char, short, int, long, float, and double), and the keyword void are also represented as Class objects.\n",
    "Class has no public constructor. Instead a Class object is constructed automatically by the Java Virtual Machine when a class loader invokes one of the defineClass methods and passes the bytes of a class file.\n",
    "The methods of class Class expose many characteristics of a class or interface. Most characteristics are derived from the class file that the class loader passed to the Java Virtual Machine. A few characteristics are determined by the class loading environment at run time, such as the module returned by getModule().\n",
    "Some methods of class Class expose whether the declaration of a class or interface in Java source code was enclosed within another declaration. Other methods describe how a class or interface is situated in a nest. A nest is a set of classes and interfaces, in the same run-time package, that allow mutual access to their private members. The classes and interfaces are known as nestmates. One nestmate acts as the nest host, and enumerates the other nestmates which belong to the nest; each of them in turn records it as the nest host. The classes and interfaces which belong to a nest, including its host, are determined when class files are generated, for example, a Java compiler will typically record a top-level class as the host of a nest where the other members are the classes and interfaces whose declarations are enclosed within the top-level class declaration.\"\"\"\n",
    "from summa import summarizer\n",
    "from summa import keywords\n",
    "print(keywords.keywords(text))"
   ]
  },
  {
   "cell_type": "code",
   "execution_count": null,
   "metadata": {},
   "outputs": [],
   "source": []
  }
 ],
 "metadata": {
  "kernelspec": {
   "display_name": "new_so_kernal",
   "language": "python",
   "name": "new_so_kernal"
  },
  "language_info": {
   "codemirror_mode": {
    "name": "ipython",
    "version": 3
   },
   "file_extension": ".py",
   "mimetype": "text/x-python",
   "name": "python",
   "nbconvert_exporter": "python",
   "pygments_lexer": "ipython3",
   "version": "3.7.3-final"
  }
 },
 "nbformat": 4,
 "nbformat_minor": 4
}