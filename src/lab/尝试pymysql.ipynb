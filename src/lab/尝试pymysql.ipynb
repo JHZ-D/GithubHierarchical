{
 "cells": [
  {
   "cell_type": "code",
   "execution_count": 1,
   "metadata": {},
   "outputs": [],
   "source": [
    "import os"
   ]
  },
  {
   "cell_type": "code",
   "execution_count": 2,
   "metadata": {},
   "outputs": [],
   "source": [
    "import pymysql"
   ]
  },
  {
   "cell_type": "code",
   "execution_count": 3,
   "metadata": {},
   "outputs": [],
   "source": [
    "db = pymysql.connect(\"162.105.16.32\",\"root\",\"root\",\"sotorrent20_03\" )"
   ]
  },
  {
   "cell_type": "code",
   "execution_count": 4,
   "metadata": {},
   "outputs": [],
   "source": [
    "cursor = db.cursor()"
   ]
  },
  {
   "cell_type": "code",
   "execution_count": 5,
   "metadata": {},
   "outputs": [],
   "source": [
    "sql = \"select `Id`, `Body` from `Posts` where `Body` like '%<code><pre>%' limit 3\""
   ]
  },
  {
   "cell_type": "code",
   "execution_count": 6,
   "metadata": {},
   "outputs": [
    {
     "name": "stdout",
     "output_type": "stream",
     "text": [
      "<p>In C, C++ and Java, the statement:&#xA;<code><pre>&#xA;if (condition1 | condition2) {&#xA;  ...&#xA;}&#xA;</code></pre></p>&#xA;&#xA;<p>will evaluate both conditions every time and only be true if the entire expression is true. </p>&#xA;&#xA;<p>The statement:</p>&#xA;&#xA;<p><pre><code>&#xA;if (condition1 || condition2) {&#xA;  ...&#xA;}&#xA;</pre></code></p>&#xA;&#xA;<p>will evaluate <code>condition2</code> only if <code>condition1</code> is false. The difference is significant if condition2 is a function or another expression with a side-effect. </p>&#xA;&#xA;<p>There is, however, no difference between the <code>||</code> case and the <code>if</code>/<code>else</code> case.</p>&#xA;\n",
      "<p><code><pre>&#xA;ALTER TABLE table ADD COLUMN tmp;&#xA;UPDATE table SET tmp = X;&#xA;UPDATE table SET X = Y;&#xA;UPDATE table SET Y = tmp;&#xA;ALTER TABLE table DROP COLUMN tmp;&#xA;</code></pre>&#xA;Something like this?</p>&#xA;&#xA;<p>Edit: About Greg's comment:&#xA;No, this doesn't work:</p>&#xA;&#xA;<p><code><pre>&#xA;mysql> select * from test;&#xA;+------+------+&#xA;| x    | y    |&#xA;+------+------+&#xA;|    1 |    2 |&#xA;|    3 |    4 |&#xA;+------+------+&#xA;2 rows in set (0.00 sec)</p>&#xA;&#xA;<p>mysql> update test set x=y, y=x;&#xA;Query OK, 2 rows affected (0.00 sec)&#xA;Rows matched: 2  Changed: 2  Warnings: 0</p>&#xA;&#xA;<p>mysql> select * from test;&#xA;+------+------+&#xA;| x    | y    |&#xA;+------+------+&#xA;|    2 |    2 |&#xA;|    4 |    4 |&#xA;+------+------+&#xA;2 rows in set (0.00 sec)&#xA;</code></pre></p>&#xA;\n",
      "<p>Another C++ one. Optimized for speed and size.</p>&#xA;&#xA;<p><code><pre>bool is_palindrome(const std::string&amp; candidate) {&#xA;    for(std::string::const_iterator left = candidate.begin(), right = candidate.end(); left &lt; --right ; ++left)&#xA;        if (*left != *right)&#xA;            return false;&#xA;    return true;&#xA;}</pre></code></p>&#xA;\n"
     ]
    }
   ],
   "source": [
    "try:\n",
    "   cursor.execute(sql)\n",
    "   # 获取所有记录列表\n",
    "   results = cursor.fetchall()\n",
    "   for row in results:\n",
    "        print(row[1])\n",
    "except:\n",
    "    print (\"Error: unable to fetch data\")"
   ]
  },
  {
   "cell_type": "code",
   "execution_count": 11,
   "metadata": {},
   "outputs": [],
   "source": [
    "sql2 = \"select COUNT(*) from `Posts` where `Body` like '%CountDownLatch%'\""
   ]
  },
  {
   "cell_type": "code",
   "execution_count": 12,
   "metadata": {},
   "outputs": [
    {
     "name": "stdout",
     "output_type": "stream",
     "text": [
      "(3674,) 3674\n"
     ]
    }
   ],
   "source": [
    "try:\n",
    "   cursor.execute(sql2)\n",
    "   # 获取所有记录列表\n",
    "   results = cursor.fetchall()\n",
    "   for row in results:\n",
    "        print(row, row[0])\n",
    "except:\n",
    "    print (\"Error: unable to fetch data\")"
   ]
  },
  {
   "cell_type": "code",
   "execution_count": 13,
   "metadata": {},
   "outputs": [],
   "source": [
    "sql3 = \"create view javaPosts as select `Id`, `Body` from `Posts` where `Tags` like '<java>'\""
   ]
  },
  {
   "cell_type": "code",
   "execution_count": 14,
   "metadata": {},
   "outputs": [
    {
     "data": {
      "text/plain": [
       "0"
      ]
     },
     "execution_count": 14,
     "metadata": {},
     "output_type": "execute_result"
    }
   ],
   "source": [
    "cursor.execute(sql3)"
   ]
  },
  {
   "cell_type": "code",
   "execution_count": null,
   "metadata": {},
   "outputs": [],
   "source": []
  }
 ],
 "metadata": {
  "kernelspec": {
   "display_name": "new_so_kernal",
   "language": "python",
   "name": "new_so_kernal"
  },
  "language_info": {
   "codemirror_mode": {
    "name": "ipython",
    "version": 3
   },
   "file_extension": ".py",
   "mimetype": "text/x-python",
   "name": "python",
   "nbconvert_exporter": "python",
   "pygments_lexer": "ipython3",
   "version": "3.7.3"
  }
 },
 "nbformat": 4,
 "nbformat_minor": 4
}
