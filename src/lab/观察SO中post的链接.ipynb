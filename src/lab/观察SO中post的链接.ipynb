{
 "metadata": {
  "language_info": {
   "codemirror_mode": {
    "name": "ipython",
    "version": 3
   },
   "file_extension": ".py",
   "mimetype": "text/x-python",
   "name": "python",
   "nbconvert_exporter": "python",
   "pygments_lexer": "ipython3",
   "version": "3.7.3-final"
  },
  "orig_nbformat": 2,
  "kernelspec": {
   "name": "new_so_kernal",
   "display_name": "new_so_kernal"
  }
 },
 "nbformat": 4,
 "nbformat_minor": 2,
 "cells": [
  {
   "source": [
    "import os\n",
    "import pickle\n",
    "JAVA_SO_POSTS_STORE_PATH = 'C:/workspace/SOworkspace/data/so_posts/java/'\n",
    "post_file_names = os.listdir(JAVA_SO_POSTS_STORE_PATH)\n",
    "post_file_names[0:1]"
   ],
   "cell_type": "code",
   "metadata": {},
   "execution_count": 1,
   "outputs": [
    {
     "output_type": "execute_result",
     "data": {
      "text/plain": [
       "['posts_0.pkl']"
      ]
     },
     "metadata": {},
     "execution_count": 1
    }
   ]
  },
  {
   "cell_type": "code",
   "execution_count": 9,
   "metadata": {},
   "outputs": [
    {
     "output_type": "execute_result",
     "data": {
      "text/plain": [
       "'java/lang/Boolean.html#equals(java.lang.Object)'"
      ]
     },
     "metadata": {},
     "execution_count": 9
    }
   ],
   "source": [
    "def get_general_api_name(api_name : str):\n",
    "    '''\n",
    "    不同文档间的api路径可能不一样，但是后面三个的路径应该是一样的，做一个粗略的api消歧\n",
    "    '''\n",
    "    ret = ''\n",
    "    try:\n",
    "        tokens = api_name.split('/')\n",
    "        general_tokens = []\n",
    "        recording = False\n",
    "        for token in tokens:\n",
    "            if token == 'java' or token == 'javax':\n",
    "                recording = True\n",
    "            if recording:\n",
    "                general_tokens.append(token)\n",
    "        ret = '/'.join(general_tokens)\n",
    "        #消除特殊字符\n",
    "        ret = ret.replace('%3C', '<')\n",
    "        ret = ret.replace('%3E', '>')\n",
    "        ret = ret.replace('%5B', '[')\n",
    "        ret = ret.replace('%5D', ']')\n",
    "    except:\n",
    "        ret = 'nonsence'\n",
    "    return ret\n",
    "\n",
    "get_general_api_name('file:///C:/workspace/SOworkspace/apidocs/javadocs/api/java.base/java/lang/Boolean.html#equals(java.lang.Object)')"
   ]
  },
  {
   "cell_type": "code",
   "execution_count": 4,
   "metadata": {},
   "outputs": [],
   "source": [
    "import networkx as nx\n",
    "JAVADOC_CP_PATH = 'C:/workspace/SOworkspace/backup/concept_map_javadoc20200801.gexf'\n",
    "concept_map = nx.read_gexf(JAVADOC_CP_PATH)"
   ]
  },
  {
   "cell_type": "code",
   "execution_count": 5,
   "metadata": {},
   "outputs": [
    {
     "output_type": "execute_result",
     "data": {
      "text/plain": [
       "52232"
      ]
     },
     "metadata": {},
     "execution_count": 5
    }
   ],
   "source": [
    "nodes = list(concept_map.nodes)\n",
    "len(nodes)"
   ]
  },
  {
   "cell_type": "code",
   "execution_count": 6,
   "metadata": {},
   "outputs": [
    {
     "output_type": "execute_result",
     "data": {
      "text/plain": [
       "45417"
      ]
     },
     "metadata": {},
     "execution_count": 6
    }
   ],
   "source": [
    "nodes = [get_general_api_name(node) for node in nodes if get_general_api_name(node) != '']\n",
    "len(nodes)"
   ]
  },
  {
   "cell_type": "code",
   "execution_count": 10,
   "metadata": {},
   "outputs": [
    {
     "output_type": "error",
     "ename": "TypeError",
     "evalue": "file must have a 'write' attribute",
     "traceback": [
      "\u001b[1;31m---------------------------------------------------------------------------\u001b[0m",
      "\u001b[1;31mTypeError\u001b[0m                                 Traceback (most recent call last)",
      "\u001b[1;32m<ipython-input-10-f9e59ebd2dc8>\u001b[0m in \u001b[0;36m<module>\u001b[1;34m\u001b[0m\n\u001b[0;32m     16\u001b[0m                 \u001b[1;32mif\u001b[0m \u001b[0mlink\u001b[0m \u001b[1;32min\u001b[0m \u001b[0mconcepts\u001b[0m\u001b[1;33m:\u001b[0m\u001b[1;33m\u001b[0m\u001b[1;33m\u001b[0m\u001b[0m\n\u001b[0;32m     17\u001b[0m                     \u001b[0mconcept_post_map\u001b[0m\u001b[1;33m[\u001b[0m\u001b[0mlink\u001b[0m\u001b[1;33m]\u001b[0m\u001b[1;33m.\u001b[0m\u001b[0mappend\u001b[0m\u001b[1;33m(\u001b[0m\u001b[0mitem\u001b[0m\u001b[1;33m)\u001b[0m\u001b[1;33m\u001b[0m\u001b[1;33m\u001b[0m\u001b[0m\n\u001b[1;32m---> 18\u001b[1;33m \u001b[0mpickle\u001b[0m\u001b[1;33m.\u001b[0m\u001b[0mdump\u001b[0m\u001b[1;33m(\u001b[0m\u001b[0mconcept_post_map\u001b[0m\u001b[1;33m,\u001b[0m \u001b[1;34m'C:/workspace/SOworkspace/data/cache/concept_post_map_direct_initial.pkl'\u001b[0m\u001b[1;33m)\u001b[0m\u001b[1;33m\u001b[0m\u001b[1;33m\u001b[0m\u001b[0m\n\u001b[0m",
      "\u001b[1;31mTypeError\u001b[0m: file must have a 'write' attribute"
     ]
    }
   ],
   "source": [
    "concept_post_map = {}\n",
    "concepts = set(nodes)\n",
    "for concept in nodes:\n",
    "    concept_post_map[concept] = []\n",
    "for post_file_name in post_file_names:\n",
    "    with open(os.path.join(JAVA_SO_POSTS_STORE_PATH, post_file_name), 'rb') as rf:\n",
    "        temp_posts = pickle.load(rf)\n",
    "        for post in temp_posts:\n",
    "            links = [get_general_api_name(link) for link in post['Links']]\n",
    "            item = {\n",
    "                'Id' : post['Id'],\n",
    "                'Title' : post['Title'],\n",
    "                'Links' : post['Links']\n",
    "            }\n",
    "            for link in links:\n",
    "                if link in concepts:\n",
    "                    concept_post_map[link].append(item)\n"
   ]
  },
  {
   "cell_type": "code",
   "execution_count": 14,
   "metadata": {},
   "outputs": [],
   "source": [
    "with open('C:/workspace/SOworkspace/data/cache/concept_post_map_direct_initial.pkl', 'wb') as wf:\n",
    "    pickle.dump(concept_post_map, wf)"
   ]
  },
  {
   "cell_type": "code",
   "execution_count": null,
   "metadata": {},
   "outputs": [],
   "source": []
  }
 ]
}