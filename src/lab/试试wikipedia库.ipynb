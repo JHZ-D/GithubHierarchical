{
 "metadata": {
  "language_info": {
   "codemirror_mode": {
    "name": "ipython",
    "version": 3
   },
   "file_extension": ".py",
   "mimetype": "text/x-python",
   "name": "python",
   "nbconvert_exporter": "python",
   "pygments_lexer": "ipython3",
   "version": "3.7.3-final"
  },
  "orig_nbformat": 2,
  "kernelspec": {
   "name": "python3",
   "display_name": "Python 3.7.3 64-bit ('soenv')",
   "metadata": {
    "interpreter": {
     "hash": "8dfe9cd3e955d087c2d07ec5de268b2bb49ac7816f26f0727debdf7ff087d575"
    }
   }
  }
 },
 "nbformat": 4,
 "nbformat_minor": 2,
 "cells": [
  {
   "cell_type": "code",
   "execution_count": 1,
   "metadata": {},
   "outputs": [],
   "source": [
    "import wikipedia"
   ]
  },
  {
   "cell_type": "code",
   "execution_count": 6,
   "metadata": {},
   "outputs": [
    {
     "output_type": "error",
     "ename": "PageError",
     "evalue": "Page id \"asdasdasd\" does not match any pages. Try another id!",
     "traceback": [
      "\u001b[1;31m---------------------------------------------------------------------------\u001b[0m",
      "\u001b[1;31mIndexError\u001b[0m                                Traceback (most recent call last)",
      "\u001b[1;32mc:\\workspace\\SOworkspace\\soenv\\lib\\site-packages\\wikipedia\\wikipedia.py\u001b[0m in \u001b[0;36mpage\u001b[1;34m(title, pageid, auto_suggest, redirect, preload)\u001b[0m\n\u001b[0;32m    271\u001b[0m       \u001b[1;32mtry\u001b[0m\u001b[1;33m:\u001b[0m\u001b[1;33m\u001b[0m\u001b[1;33m\u001b[0m\u001b[0m\n\u001b[1;32m--> 272\u001b[1;33m         \u001b[0mtitle\u001b[0m \u001b[1;33m=\u001b[0m \u001b[0msuggestion\u001b[0m \u001b[1;32mor\u001b[0m \u001b[0mresults\u001b[0m\u001b[1;33m[\u001b[0m\u001b[1;36m0\u001b[0m\u001b[1;33m]\u001b[0m\u001b[1;33m\u001b[0m\u001b[1;33m\u001b[0m\u001b[0m\n\u001b[0m\u001b[0;32m    273\u001b[0m       \u001b[1;32mexcept\u001b[0m \u001b[0mIndexError\u001b[0m\u001b[1;33m:\u001b[0m\u001b[1;33m\u001b[0m\u001b[1;33m\u001b[0m\u001b[0m\n",
      "\u001b[1;31mIndexError\u001b[0m: list index out of range",
      "\nDuring handling of the above exception, another exception occurred:\n",
      "\u001b[1;31mPageError\u001b[0m                                 Traceback (most recent call last)",
      "\u001b[1;32m<ipython-input-6-7551ef18647f>\u001b[0m in \u001b[0;36m<module>\u001b[1;34m\u001b[0m\n\u001b[1;32m----> 1\u001b[1;33m \u001b[0mpg\u001b[0m \u001b[1;33m=\u001b[0m \u001b[0mwikipedia\u001b[0m\u001b[1;33m.\u001b[0m\u001b[0mpage\u001b[0m\u001b[1;33m(\u001b[0m\u001b[1;34m'asdasdasd'\u001b[0m\u001b[1;33m)\u001b[0m\u001b[1;33m\u001b[0m\u001b[1;33m\u001b[0m\u001b[0m\n\u001b[0m",
      "\u001b[1;32mc:\\workspace\\SOworkspace\\soenv\\lib\\site-packages\\wikipedia\\wikipedia.py\u001b[0m in \u001b[0;36mpage\u001b[1;34m(title, pageid, auto_suggest, redirect, preload)\u001b[0m\n\u001b[0;32m    273\u001b[0m       \u001b[1;32mexcept\u001b[0m \u001b[0mIndexError\u001b[0m\u001b[1;33m:\u001b[0m\u001b[1;33m\u001b[0m\u001b[1;33m\u001b[0m\u001b[0m\n\u001b[0;32m    274\u001b[0m         \u001b[1;31m# if there is no suggestion or search results, the page doesn't exist\u001b[0m\u001b[1;33m\u001b[0m\u001b[1;33m\u001b[0m\u001b[1;33m\u001b[0m\u001b[0m\n\u001b[1;32m--> 275\u001b[1;33m         \u001b[1;32mraise\u001b[0m \u001b[0mPageError\u001b[0m\u001b[1;33m(\u001b[0m\u001b[0mtitle\u001b[0m\u001b[1;33m)\u001b[0m\u001b[1;33m\u001b[0m\u001b[1;33m\u001b[0m\u001b[0m\n\u001b[0m\u001b[0;32m    276\u001b[0m     \u001b[1;32mreturn\u001b[0m \u001b[0mWikipediaPage\u001b[0m\u001b[1;33m(\u001b[0m\u001b[0mtitle\u001b[0m\u001b[1;33m,\u001b[0m \u001b[0mredirect\u001b[0m\u001b[1;33m=\u001b[0m\u001b[0mredirect\u001b[0m\u001b[1;33m,\u001b[0m \u001b[0mpreload\u001b[0m\u001b[1;33m=\u001b[0m\u001b[0mpreload\u001b[0m\u001b[1;33m)\u001b[0m\u001b[1;33m\u001b[0m\u001b[1;33m\u001b[0m\u001b[0m\n\u001b[0;32m    277\u001b[0m   \u001b[1;32melif\u001b[0m \u001b[0mpageid\u001b[0m \u001b[1;32mis\u001b[0m \u001b[1;32mnot\u001b[0m \u001b[1;32mNone\u001b[0m\u001b[1;33m:\u001b[0m\u001b[1;33m\u001b[0m\u001b[1;33m\u001b[0m\u001b[0m\n",
      "\u001b[1;31mPageError\u001b[0m: Page id \"asdasdasd\" does not match any pages. Try another id!"
     ]
    }
   ],
   "source": [
    "pg = wikipedia.page('asdasdasd')"
   ]
  },
  {
   "cell_type": "code",
   "execution_count": 5,
   "metadata": {},
   "outputs": [
    {
     "output_type": "execute_result",
     "data": {
      "text/plain": [
       "\"In computer science, a circular buffer, circular queue, cyclic buffer or ring buffer is a data structure that uses a single, fixed-size buffer as if it were connected end-to-end. This structure lends itself easily to buffering data streams.\\n\\n\\n== Overview ==\\n\\nA circular buffer first starts out empty and has a set length. In the diagram below is a 7-element buffer: \\n\\nAssume that 1 is written in the center of a Circular Buffer (the exact starting location is not important in a Circular Buffer): \\n\\nThen assume that two more elements are added to the Circular Buffer — 2 & 3 — which get put after 1: \\n\\nIf two elements are removed, the two oldest values inside of the Circular Buffer would be removed. Circular Buffers use FIFO (First In, First Out) logic. In the example 1 & 2 were the first to enter the Circular Buffer, they are the first to be removed, leaving 3 inside of the Buffer.  \\n\\nIf the buffer has 7 elements, then it is completely full:\\n\\nA property of the circular buffer is that when it is full and a subsequent write is performed, then it starts overwriting the oldest data.\\nIn the current example, two more elements — A & B — are added and they overwrite the 3 & 4:\\n\\nAlternatively, the routines that manage the buffer could prevent overwriting the data and return an error or raise an exception.\\nWhether or not data is overwritten is up to the semantics of the buffer routines or the application using the circular buffer.\\nFinally, if two elements are now removed then what would be returned is not 3 & 4 but 5 & 6 because A & B overwrote the 3 & the 4 yielding the buffer with:\\n\\n\\n== Uses ==\\nThe useful property of a circular buffer is that it does not need to have its elements shuffled around when one is consumed.\\n(If a non-circular buffer were used then it would be necessary to shift all elements when one is consumed.)\\nIn other words, the circular buffer is well-suited as a FIFO (First In, First Out) buffer while a standard, non-circular buffer is well suited as a LIFO (Last In, First Out) buffer.\\nCircular buffering makes a good implementation strategy for a queue that has fixed maximum size. Should a maximum size be adopted for a queue, then a circular buffer is a completely ideal implementation; all queue operations are constant time. However, expanding a circular buffer requires shifting memory, which is comparatively costly. For arbitrarily expanding queues, a linked list approach may be preferred instead.\\nIn some situations, overwriting circular buffer can be used, e.g. in multimedia. If the buffer is used as the bounded buffer in the producer-consumer problem then it is probably desired for the producer (e.g., an audio generator) to overwrite old data if the consumer (e.g., the sound card) is unable to momentarily keep up. Also, the LZ77 family of lossless data compression algorithms operates on the assumption that strings seen more recently in a data stream are more likely to occur soon in the stream. Implementations store the most recent data in a circular buffer.\\n\\n\\n== Circular buffer mechanics ==\\nA circular buffer can be implemented using four pointers, or two pointers and two integers:\\n\\nbuffer start in memory\\nbuffer end in memory, or buffer capacity\\nstart of valid data (index or pointer)\\nend of valid data (index or pointer), or amount of data currently in the buffer (integer)This image shows a partially full buffer:\\n\\nThis image shows a full buffer with four elements (numbers 1 through 4) having been overwritten:\\n\\nWhen an element is overwritten, the start pointer is incremented to the next element.\\nIn utilizing full buffer capacity with pointer-based implementation strategy, the buffer's full or empty state could not be resolved directly from checking the positions of the start and end indexes. Therefore, an additional mechanism must be implemented for checking this.  One common way to deal with this, when using 2 pointers, is to only allow the buffer to hold (size − 1) items.  When both pointers are equal, the buffer is empty, and when the end pointer is one less than the start pointer, the buffer is full.\\nWhen the buffer is instead designed to track the number of inserted elements n, checking for emptiness means checking n = 0 and checking for fullness means checking whether n equals the capacity.Incrementing and decrementing the circular buffer address pointers is accomplished in software using the following modulus formulas:\\n\\n   increment_address_one = (address + 1) % Length\\n\\n   decrement_address_one = (address + Length - 1) % Length\\n\\nIn languages whose modulo operator apply truncated division, the extra Length addition for the decrement by one operation is required to prevent negative results and to ensure proper rollover the end address of the circular buffer.\\n\\n\\n== Optimization ==\\nA circular-buffer implementation may be optimized by mapping the underlying buffer to two contiguous regions of virtual memory. (Naturally, the underlying buffer‘s length must then equal some multiple of the system’s page size.) Reading from and writing to the circular buffer may then be carried out with greater efficiency by means of direct memory access; those accesses which fall beyond the end of the first virtual-memory region will automatically wrap around to the beginning of the underlying buffer. When the read offset is advanced into the second virtual-memory region, both offsets—read and write—are decremented by the length of the underlying buffer.\\n\\n\\n== Fixed-length-element and contiguous-block circular buffer ==\\nPerhaps the most common version of the circular buffer uses 8-bit bytes as elements.\\nSome implementations of the circular buffer use fixed-length elements that are bigger than 8-bit bytes—16-bit integers for audio buffers,\\n53-byte ATM cells for telecom buffers, etc.\\nEach item is contiguous and has the correct data alignment,\\nso software reading and writing these values can be faster than software that handles non-contiguous and non-aligned values.\\nPing-pong buffering can be considered a very specialized circular buffer with exactly two large fixed-length elements.\\nThe Bip Buffer (bipartite buffer) is very similar to a circular buffer, except it always returns contiguous blocks which can be variable length. This offers nearly all the efficiency advantages of a circular buffer while maintaining the ability for the buffer to be used in APIs that only accept contiguous blocks.Fixed-sized compressed circular buffers use an alternative indexing strategy based on elementary number theory to maintain a fixed-sized compressed representation of the entire data sequence.\\n\\n\\n== References ==\\n\\n\\n== External links ==\\nCircularBuffer at the Portland Pattern Repository\\nBoost: Templated Circular Buffer Container\\nCircular Buffering\\nCircular queue in C\""
      ]
     },
     "metadata": {},
     "execution_count": 5
    }
   ],
   "source": [
    "pg.content"
   ]
  },
  {
   "cell_type": "code",
   "execution_count": null,
   "metadata": {},
   "outputs": [],
   "source": []
  }
 ]
}