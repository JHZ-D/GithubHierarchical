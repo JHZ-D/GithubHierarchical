{
 "metadata": {
  "language_info": {
   "codemirror_mode": {
    "name": "ipython",
    "version": 3
   },
   "file_extension": ".py",
   "mimetype": "text/x-python",
   "name": "python",
   "nbconvert_exporter": "python",
   "pygments_lexer": "ipython3",
   "version": ""
  },
  "orig_nbformat": 2,
  "kernelspec": {
   "name": "pheolon_kernel",
   "display_name": "Python   ('soenv': virtualenv)"
  }
 },
 "nbformat": 4,
 "nbformat_minor": 2,
 "cells": [
  {
   "cell_type": "code",
   "execution_count": 1,
   "metadata": {},
   "outputs": [],
   "source": [
    "from util.concept_map.common import get_latest_hyper_concept_map\n",
    "from util.config import *\n",
    "import networkx as nx"
   ]
  },
  {
   "cell_type": "code",
   "execution_count": 2,
   "metadata": {},
   "outputs": [],
   "source": [
    "g = get_latest_hyper_concept_map()"
   ]
  },
  {
   "cell_type": "code",
   "execution_count": 3,
   "metadata": {},
   "outputs": [
    {
     "output_type": "execute_result",
     "data": {
      "text/plain": [
       "111899"
      ]
     },
     "metadata": {},
     "execution_count": 3
    }
   ],
   "source": [
    "len(g.nodes)"
   ]
  },
  {
   "cell_type": "code",
   "execution_count": 4,
   "metadata": {},
   "outputs": [
    {
     "output_type": "execute_result",
     "data": {
      "text/plain": [
       "59667"
      ]
     },
     "metadata": {},
     "execution_count": 4
    }
   ],
   "source": [
    "from util.constant import *\n",
    "terms = [node for node in g.nodes if g.nodes[node].get(NodeAttributes.Ntype, '') in term_level_node_types]\n",
    "len(terms)"
   ]
  },
  {
   "cell_type": "code",
   "execution_count": 5,
   "metadata": {},
   "outputs": [
    {
     "output_type": "execute_result",
     "data": {
      "text/plain": [
       "52232"
      ]
     },
     "metadata": {},
     "execution_count": 5
    }
   ],
   "source": [
    "111899 - 59667"
   ]
  },
  {
   "cell_type": "code",
   "execution_count": 6,
   "metadata": {},
   "outputs": [
    {
     "output_type": "execute_result",
     "data": {
      "text/plain": [
       "49871"
      ]
     },
     "metadata": {},
     "execution_count": 6
    }
   ],
   "source": [
    "general_terms = [node for node in g.nodes if g.nodes[node].get(NodeAttributes.Ntype, '') == NodeType.DOMAIN_TERM]\n",
    "len(general_terms)"
   ]
  },
  {
   "cell_type": "code",
   "execution_count": 7,
   "metadata": {},
   "outputs": [
    {
     "output_type": "execute_result",
     "data": {
      "text/plain": [
       "9796"
      ]
     },
     "metadata": {},
     "execution_count": 7
    }
   ],
   "source": [
    "wiki_terms = [node for node in g.nodes if g.nodes[node].get(NodeAttributes.Ntype, '') == NodeType.WIKI_TERM]\n",
    "len(wiki_terms)"
   ]
  },
  {
   "cell_type": "code",
   "execution_count": 8,
   "metadata": {},
   "outputs": [
    {
     "output_type": "stream",
     "name": "stdout",
     "text": [
      "298238\n"
     ]
    },
    {
     "output_type": "execute_result",
     "data": {
      "text/plain": [
       "('javase', 'jdk')"
      ]
     },
     "metadata": {},
     "execution_count": 8
    }
   ],
   "source": [
    "edges = list(g.edges())\n",
    "print(len(edges))\n",
    "edges[0]"
   ]
  },
  {
   "cell_type": "code",
   "execution_count": 10,
   "metadata": {},
   "outputs": [
    {
     "output_type": "execute_result",
     "data": {
      "text/plain": [
       "'RELATED'"
      ]
     },
     "metadata": {},
     "execution_count": 10
    }
   ],
   "source": [
    "g['javase']['jdk']['Etype']"
   ]
  },
  {
   "cell_type": "code",
   "execution_count": 18,
   "metadata": {},
   "outputs": [
    {
     "output_type": "execute_result",
     "data": {
      "text/plain": [
       "2344"
      ]
     },
     "metadata": {},
     "execution_count": 18
    }
   ],
   "source": [
    "wiki_edges = [edge for edge in edges if g[edge[0]][edge[1]].get('Etype', '') == 'RELATED_TO']\n",
    "len(wiki_edges)"
   ]
  },
  {
   "cell_type": "code",
   "execution_count": 23,
   "metadata": {},
   "outputs": [
    {
     "output_type": "execute_result",
     "data": {
      "text/plain": [
       "273664"
      ]
     },
     "metadata": {},
     "execution_count": 23
    }
   ],
   "source": [
    "pred_path = r'C:\\workspace\\SOworkspace\\data\\server_data\\ANEMONE_prediction\\all_predictions_sync.json'\n",
    "import json\n",
    "with open(pred_path, 'r', encoding='utf-8') as rf:\n",
    "    preds = json.load(rf)\n",
    "len(preds)"
   ]
  },
  {
   "cell_type": "code",
   "execution_count": 24,
   "metadata": {},
   "outputs": [
    {
     "output_type": "execute_result",
     "data": {
      "text/plain": [
       "385563"
      ]
     },
     "metadata": {},
     "execution_count": 24
    }
   ],
   "source": [
    "111899 + 273664"
   ]
  },
  {
   "cell_type": "code",
   "execution_count": 25,
   "metadata": {},
   "outputs": [
    {
     "output_type": "execute_result",
     "data": {
      "text/plain": [
       "149433"
      ]
     },
     "metadata": {},
     "execution_count": 25
    }
   ],
   "source": [
    "mention_edges = [edge for edge in edges if g[edge[0]][edge[1]].get('Etype', '') == 'MENTION']\n",
    "len(mention_edges)"
   ]
  },
  {
   "cell_type": "code",
   "execution_count": 26,
   "metadata": {},
   "outputs": [
    {
     "output_type": "execute_result",
     "data": {
      "text/plain": [
       "151777"
      ]
     },
     "metadata": {},
     "execution_count": 26
    }
   ],
   "source": [
    "149433 + 2344"
   ]
  },
  {
   "cell_type": "code",
   "execution_count": null,
   "metadata": {},
   "outputs": [],
   "source": []
  }
 ]
}